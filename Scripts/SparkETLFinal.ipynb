{
 "cells": [
  {
   "cell_type": "code",
   "execution_count": 67,
   "metadata": {},
   "outputs": [],
   "source": [
    "#NOTE IF WE CANT INSTALL PYSPARK IN THE CONDA ENVIRONMENT USING CONDA INSTALL \n",
    "#USR !pip3 install in code and it will work and go the the specific environment\n",
    "#!pip3 install pyspark\n"
   ]
  },
  {
   "cell_type": "code",
   "execution_count": 68,
   "metadata": {},
   "outputs": [],
   "source": [
    "import pyspark\n",
    "import pandas as pd\n",
    "from pyspark.sql import SparkSession\n",
    "from pyspark.sql.types import StructType, StructField, StringType, TimestampType, IntegerType, FloatType\n",
    "from pyspark.sql import functions as f\n",
    "from pyspark.sql import types as t\n",
    "from pyspark.sql import functions as f\n",
    "from pyspark.sql import types as t\n",
    "import psycopg2\n",
    "from sqlalchemy import create_engine\n",
    "from pathlib import Path\n",
    "import datetime as dt\n",
    "\n",
    "\n",
    "spark = SparkSession.builder.appName('final').getOrCreate()\n",
    "\n",
    "#The columns are in capital and small so we have to make it case, sensetive. By default its off.\n",
    "spark.conf.set('spark.sql.caseSensitive', True)\n",
    "\n",
    "file_path = '/Users/pratyushpradhan/Developer/Personal/Projects/Crypto/RealTimeData'\n",
    "df = spark.read.option('header','true').csv(file_path, inferSchema=True)\n"
   ]
  },
  {
   "cell_type": "code",
   "execution_count": 69,
   "metadata": {},
   "outputs": [],
   "source": [
    "\n",
    "#TODO:  6 perform analytics task thorugh filter and search group by columns\n",
    "\n",
    "#TRANSFORMATION\n",
    "\n",
    "#drop columns\n",
    "df= df.drop('B','x','f','L')\n",
    "\n",
    "#rename\n",
    "col_list=['start_time','close_time','symbol','interval','open','close','high','low','base_volume','num_trades'\n",
    ",'quote_volume','taker_buy_base_volume','taker_buy_quote_volume']\n",
    "df = df.toDF(*col_list)\n",
    "\n",
    "#drop column if value null\n",
    "df= df.na.drop(how='any', subset=['symbol','start_time','close_time','open','close','high','low','base_volume'])"
   ]
  },
  {
   "cell_type": "code",
   "execution_count": 70,
   "metadata": {},
   "outputs": [],
   "source": [
    "#update date values from unix epoch timestamp to timestamp\n",
    "#NOTE Unix epoch time is utc by default\n",
    "df = df.withColumn('start_time', f.to_timestamp(df.start_time/1000)).withColumn('close_time', f.to_timestamp(df.close_time/1000))"
   ]
  },
  {
   "cell_type": "code",
   "execution_count": 71,
   "metadata": {},
   "outputs": [],
   "source": [
    "#get distinct symbols from all columns\n",
    "dist_symbols = df.select('symbol').distinct().rdd.flatMap(lambda x:x).collect()"
   ]
  },
  {
   "cell_type": "code",
   "execution_count": 72,
   "metadata": {},
   "outputs": [
    {
     "name": "stderr",
     "output_type": "stream",
     "text": [
      "/opt/homebrew/Caskroom/miniforge/base/lib/python3.10/site-packages/pyspark/sql/pandas/conversion.py:248: FutureWarning: Passing unit-less datetime64 dtype to .astype is deprecated and will raise in a future version. Pass 'datetime64[ns]' instead\n",
      "  series = series.astype(t, copy=False)\n",
      "/opt/homebrew/Caskroom/miniforge/base/lib/python3.10/site-packages/pyspark/sql/pandas/conversion.py:248: FutureWarning: Passing unit-less datetime64 dtype to .astype is deprecated and will raise in a future version. Pass 'datetime64[ns]' instead\n",
      "  series = series.astype(t, copy=False)\n"
     ]
    }
   ],
   "source": [
    "#Convert spark dataframe to pandas\n",
    "##df.show()\n",
    "df = df.toPandas()"
   ]
  },
  {
   "cell_type": "code",
   "execution_count": 73,
   "metadata": {},
   "outputs": [
    {
     "name": "stderr",
     "output_type": "stream",
     "text": [
      "/var/folders/36/f2w97nw92131s9_c7z1n0p900000gn/T/ipykernel_35399/1818204510.py:3: FutureWarning: The default value of numeric_only in DataFrameGroupBy.sum is deprecated. In a future version, numeric_only will default to False. Either specify numeric_only or select only columns which should be valid for the function.\n",
      "  agg_df=df.groupby(['symbol','close_date']).sum().reset_index().copy()\n"
     ]
    }
   ],
   "source": [
    "#create aggregate Datatable\n",
    "df['close_date'] = (df['close_time']).dt.date\n",
    "agg_df=df.groupby(['symbol','close_date']).sum().reset_index().copy()\n",
    "agg_df=agg_df.rename(columns={'num_trades':'total_num_trades','base_volume': 'total_base_volume', 'quote_volume': 'total_quote_volume'})\n",
    "agg_df=agg_df.loc[:,['symbol','close_date','total_num_trades','total_base_volume','total_quote_volume']]\n",
    "\n",
    "#take only certain columns and rename them\n",
    "#droping the temp column\n",
    "df = df.drop('close_date', axis=1)"
   ]
  },
  {
   "cell_type": "code",
   "execution_count": 74,
   "metadata": {},
   "outputs": [],
   "source": [
    "def createConnection(database,user,password,host,port):\n",
    "    return create_engine(f\"postgresql+psycopg2://{user}:{password}@{host}:{port}/{database}?client_encoding=utf8\")\n",
    "\n",
    "#load data to database\n",
    "#TODO: CREATE CONFIG fiLE\n",
    "database='crypto'\n",
    "user='cryptouser'\n",
    "password= 'secretcrypto' \n",
    "host='127.0.0.1'\n",
    "port= '5432'\n",
    "\n",
    "#TODO: implement try catch  and logging\n",
    "engine = createConnection(database,user,password,host,port)"
   ]
  },
  {
   "cell_type": "code",
   "execution_count": 75,
   "metadata": {},
   "outputs": [],
   "source": [
    "#Code to insert to database\n",
    "\n",
    "for value in dist_symbols:\n",
    "    #note that the data table name is same as symbol name\n",
    "    # TODO: if time add a query so that if new symbol comes and its corresponding datatable does not exist, create new table with a predefined schema\n",
    "    #NOTE: always  \" \" inside filter at start function no ''\n",
    "    #NOTE: for postgres take db in lowercase, we need to add  quotes (\" \") always if taken to uppercase\n",
    "    temp_df = df.query(f\"symbol == '{value}' \").to_sql(value.lower(), engine, index=False, if_exists= 'append')"
   ]
  },
  {
   "cell_type": "code",
   "execution_count": 78,
   "metadata": {},
   "outputs": [
    {
     "data": {
      "text/html": [
       "<div>\n",
       "<style scoped>\n",
       "    .dataframe tbody tr th:only-of-type {\n",
       "        vertical-align: middle;\n",
       "    }\n",
       "\n",
       "    .dataframe tbody tr th {\n",
       "        vertical-align: top;\n",
       "    }\n",
       "\n",
       "    .dataframe thead th {\n",
       "        text-align: right;\n",
       "    }\n",
       "</style>\n",
       "<table border=\"1\" class=\"dataframe\">\n",
       "  <thead>\n",
       "    <tr style=\"text-align: right;\">\n",
       "      <th></th>\n",
       "      <th>symbol</th>\n",
       "      <th>close_date</th>\n",
       "      <th>total_num_trades</th>\n",
       "      <th>total_base_volume</th>\n",
       "      <th>total_quote_volume</th>\n",
       "    </tr>\n",
       "  </thead>\n",
       "  <tbody>\n",
       "    <tr>\n",
       "      <th>0</th>\n",
       "      <td>ADAUSDT</td>\n",
       "      <td>2022-11-21</td>\n",
       "      <td>1588</td>\n",
       "      <td>1.656324e+06</td>\n",
       "      <td>5.053314e+05</td>\n",
       "    </tr>\n",
       "    <tr>\n",
       "      <th>1</th>\n",
       "      <td>BNBUSDT</td>\n",
       "      <td>2022-11-21</td>\n",
       "      <td>3866</td>\n",
       "      <td>4.439779e+03</td>\n",
       "      <td>1.137825e+06</td>\n",
       "    </tr>\n",
       "    <tr>\n",
       "      <th>2</th>\n",
       "      <td>BTCUSDT</td>\n",
       "      <td>2022-11-21</td>\n",
       "      <td>103011</td>\n",
       "      <td>3.618617e+03</td>\n",
       "      <td>5.720464e+07</td>\n",
       "    </tr>\n",
       "    <tr>\n",
       "      <th>3</th>\n",
       "      <td>DOGEUSDT</td>\n",
       "      <td>2022-11-21</td>\n",
       "      <td>5376</td>\n",
       "      <td>4.204120e+07</td>\n",
       "      <td>3.152764e+06</td>\n",
       "    </tr>\n",
       "    <tr>\n",
       "      <th>4</th>\n",
       "      <td>DOTUSDT</td>\n",
       "      <td>2022-11-21</td>\n",
       "      <td>640</td>\n",
       "      <td>6.999966e+04</td>\n",
       "      <td>3.619168e+05</td>\n",
       "    </tr>\n",
       "    <tr>\n",
       "      <th>5</th>\n",
       "      <td>ETHUSDT</td>\n",
       "      <td>2022-11-21</td>\n",
       "      <td>9716</td>\n",
       "      <td>7.342498e+03</td>\n",
       "      <td>8.077432e+06</td>\n",
       "    </tr>\n",
       "    <tr>\n",
       "      <th>6</th>\n",
       "      <td>MATICUSDT</td>\n",
       "      <td>2022-11-21</td>\n",
       "      <td>4175</td>\n",
       "      <td>1.598645e+06</td>\n",
       "      <td>1.274916e+06</td>\n",
       "    </tr>\n",
       "    <tr>\n",
       "      <th>7</th>\n",
       "      <td>SOLUSDT</td>\n",
       "      <td>2022-11-21</td>\n",
       "      <td>2247</td>\n",
       "      <td>5.098981e+04</td>\n",
       "      <td>5.927293e+05</td>\n",
       "    </tr>\n",
       "    <tr>\n",
       "      <th>8</th>\n",
       "      <td>XRPUSDT</td>\n",
       "      <td>2022-11-21</td>\n",
       "      <td>4379</td>\n",
       "      <td>1.250941e+07</td>\n",
       "      <td>4.475222e+06</td>\n",
       "    </tr>\n",
       "  </tbody>\n",
       "</table>\n",
       "</div>"
      ],
      "text/plain": [
       "      symbol  close_date  total_num_trades  total_base_volume  \\\n",
       "0    ADAUSDT  2022-11-21              1588       1.656324e+06   \n",
       "1    BNBUSDT  2022-11-21              3866       4.439779e+03   \n",
       "2    BTCUSDT  2022-11-21            103011       3.618617e+03   \n",
       "3   DOGEUSDT  2022-11-21              5376       4.204120e+07   \n",
       "4    DOTUSDT  2022-11-21               640       6.999966e+04   \n",
       "5    ETHUSDT  2022-11-21              9716       7.342498e+03   \n",
       "6  MATICUSDT  2022-11-21              4175       1.598645e+06   \n",
       "7    SOLUSDT  2022-11-21              2247       5.098981e+04   \n",
       "8    XRPUSDT  2022-11-21              4379       1.250941e+07   \n",
       "\n",
       "   total_quote_volume  \n",
       "0        5.053314e+05  \n",
       "1        1.137825e+06  \n",
       "2        5.720464e+07  \n",
       "3        3.152764e+06  \n",
       "4        3.619168e+05  \n",
       "5        8.077432e+06  \n",
       "6        1.274916e+06  \n",
       "7        5.927293e+05  \n",
       "8        4.475222e+06  "
      ]
     },
     "metadata": {},
     "output_type": "display_data"
    },
    {
     "ename": "ProgrammingError",
     "evalue": "(psycopg2.errors.UndefinedColumn) column \"close_date\" of relation \"prediction\" does not exist\nLINE 1: INSERT INTO prediction (symbol, close_date, total_num_trades...\n                                        ^\n\n[SQL: INSERT INTO prediction (symbol, close_date, total_num_trades, total_base_volume, total_quote_volume) VALUES (%(symbol)s, %(close_date)s, %(total_num_trades)s, %(total_base_volume)s, %(total_quote_volume)s)]\n[parameters: ({'symbol': 'ADAUSDT', 'close_date': datetime.date(2022, 11, 21), 'total_num_trades': 1588, 'total_base_volume': 1656323.8, 'total_quote_volume': 505331.43651}, {'symbol': 'BNBUSDT', 'close_date': datetime.date(2022, 11, 21), 'total_num_trades': 3866, 'total_base_volume': 4439.7789999999995, 'total_quote_volume': 1137825.1675}, {'symbol': 'BTCUSDT', 'close_date': datetime.date(2022, 11, 21), 'total_num_trades': 103011, 'total_base_volume': 3618.61689, 'total_quote_volume': 57204642.481162496}, {'symbol': 'DOGEUSDT', 'close_date': datetime.date(2022, 11, 21), 'total_num_trades': 5376, 'total_base_volume': 42041196.0, 'total_quote_volume': 3152763.94626}, {'symbol': 'DOTUSDT', 'close_date': datetime.date(2022, 11, 21), 'total_num_trades': 640, 'total_base_volume': 69999.66, 'total_quote_volume': 361916.8359}, {'symbol': 'ETHUSDT', 'close_date': datetime.date(2022, 11, 21), 'total_num_trades': 9716, 'total_base_volume': 7342.498, 'total_quote_volume': 8077432.107655}, {'symbol': 'MATICUSDT', 'close_date': datetime.date(2022, 11, 21), 'total_num_trades': 4175, 'total_base_volume': 1598645.1, 'total_quote_volume': 1274915.62709}, {'symbol': 'SOLUSDT', 'close_date': datetime.date(2022, 11, 21), 'total_num_trades': 2247, 'total_base_volume': 50989.81, 'total_quote_volume': 592729.2841}, {'symbol': 'XRPUSDT', 'close_date': datetime.date(2022, 11, 21), 'total_num_trades': 4379, 'total_base_volume': 12509407.0, 'total_quote_volume': 4475221.803})]\n(Background on this error at: https://sqlalche.me/e/14/f405)",
     "output_type": "error",
     "traceback": [
      "\u001b[0;31m---------------------------------------------------------------------------\u001b[0m",
      "\u001b[0;31mUndefinedColumn\u001b[0m                           Traceback (most recent call last)",
      "File \u001b[0;32m/opt/homebrew/Caskroom/miniforge/base/lib/python3.10/site-packages/sqlalchemy/engine/base.py:1880\u001b[0m, in \u001b[0;36mConnection._execute_context\u001b[0;34m(self, dialect, constructor, statement, parameters, execution_options, *args, **kw)\u001b[0m\n\u001b[1;32m   1879\u001b[0m     \u001b[39mif\u001b[39;00m \u001b[39mnot\u001b[39;00m evt_handled:\n\u001b[0;32m-> 1880\u001b[0m         \u001b[39mself\u001b[39;49m\u001b[39m.\u001b[39;49mdialect\u001b[39m.\u001b[39;49mdo_executemany(\n\u001b[1;32m   1881\u001b[0m             cursor, statement, parameters, context\n\u001b[1;32m   1882\u001b[0m         )\n\u001b[1;32m   1883\u001b[0m \u001b[39melif\u001b[39;00m \u001b[39mnot\u001b[39;00m parameters \u001b[39mand\u001b[39;00m context\u001b[39m.\u001b[39mno_parameters:\n",
      "File \u001b[0;32m/opt/homebrew/Caskroom/miniforge/base/lib/python3.10/site-packages/sqlalchemy/dialects/postgresql/psycopg2.py:982\u001b[0m, in \u001b[0;36mPGDialect_psycopg2.do_executemany\u001b[0;34m(self, cursor, statement, parameters, context)\u001b[0m\n\u001b[1;32m    981\u001b[0m     xtras \u001b[39m=\u001b[39m \u001b[39mself\u001b[39m\u001b[39m.\u001b[39m_psycopg2_extras()\n\u001b[0;32m--> 982\u001b[0m     context\u001b[39m.\u001b[39m_psycopg2_fetched_rows \u001b[39m=\u001b[39m xtras\u001b[39m.\u001b[39;49mexecute_values(\n\u001b[1;32m    983\u001b[0m         cursor,\n\u001b[1;32m    984\u001b[0m         statement,\n\u001b[1;32m    985\u001b[0m         parameters,\n\u001b[1;32m    986\u001b[0m         template\u001b[39m=\u001b[39;49mexecutemany_values,\n\u001b[1;32m    987\u001b[0m         fetch\u001b[39m=\u001b[39;49m\u001b[39mbool\u001b[39;49m(context\u001b[39m.\u001b[39;49mcompiled\u001b[39m.\u001b[39;49mreturning),\n\u001b[1;32m    988\u001b[0m         \u001b[39m*\u001b[39;49m\u001b[39m*\u001b[39;49mkwargs\n\u001b[1;32m    989\u001b[0m     )\n\u001b[1;32m    991\u001b[0m \u001b[39melif\u001b[39;00m \u001b[39mself\u001b[39m\u001b[39m.\u001b[39mexecutemany_mode \u001b[39m&\u001b[39m EXECUTEMANY_BATCH:\n",
      "File \u001b[0;32m/opt/homebrew/Caskroom/miniforge/base/lib/python3.10/site-packages/psycopg2/extras.py:1299\u001b[0m, in \u001b[0;36mexecute_values\u001b[0;34m(cur, sql, argslist, template, page_size, fetch)\u001b[0m\n\u001b[1;32m   1298\u001b[0m parts[\u001b[39m-\u001b[39m\u001b[39m1\u001b[39m:] \u001b[39m=\u001b[39m post\n\u001b[0;32m-> 1299\u001b[0m cur\u001b[39m.\u001b[39;49mexecute(\u001b[39mb\u001b[39;49m\u001b[39m'\u001b[39;49m\u001b[39m'\u001b[39;49m\u001b[39m.\u001b[39;49mjoin(parts))\n\u001b[1;32m   1300\u001b[0m \u001b[39mif\u001b[39;00m fetch:\n",
      "\u001b[0;31mUndefinedColumn\u001b[0m: column \"close_date\" of relation \"prediction\" does not exist\nLINE 1: INSERT INTO prediction (symbol, close_date, total_num_trades...\n                                        ^\n",
      "\nThe above exception was the direct cause of the following exception:\n",
      "\u001b[0;31mProgrammingError\u001b[0m                          Traceback (most recent call last)",
      "Cell \u001b[0;32mIn [78], line 4\u001b[0m\n\u001b[1;32m      2\u001b[0m table_name\u001b[39m=\u001b[39m \u001b[39m'\u001b[39m\u001b[39mprediction\u001b[39m\u001b[39m'\u001b[39m\n\u001b[1;32m      3\u001b[0m display(agg_df)\n\u001b[0;32m----> 4\u001b[0m temp \u001b[39m=\u001b[39m agg_df\u001b[39m.\u001b[39;49mto_sql(table_name, engine, index\u001b[39m=\u001b[39;49m\u001b[39mFalse\u001b[39;49;00m, if_exists\u001b[39m=\u001b[39;49m \u001b[39m'\u001b[39;49m\u001b[39mappend\u001b[39;49m\u001b[39m'\u001b[39;49m) \n",
      "File \u001b[0;32m/opt/homebrew/Caskroom/miniforge/base/lib/python3.10/site-packages/pandas/core/generic.py:2987\u001b[0m, in \u001b[0;36mNDFrame.to_sql\u001b[0;34m(self, name, con, schema, if_exists, index, index_label, chunksize, dtype, method)\u001b[0m\n\u001b[1;32m   2830\u001b[0m \u001b[39m\"\"\"\u001b[39;00m\n\u001b[1;32m   2831\u001b[0m \u001b[39mWrite records stored in a DataFrame to a SQL database.\u001b[39;00m\n\u001b[1;32m   2832\u001b[0m \n\u001b[0;32m   (...)\u001b[0m\n\u001b[1;32m   2983\u001b[0m \u001b[39m[(1,), (None,), (2,)]\u001b[39;00m\n\u001b[1;32m   2984\u001b[0m \u001b[39m\"\"\"\u001b[39;00m  \u001b[39m# noqa:E501\u001b[39;00m\n\u001b[1;32m   2985\u001b[0m \u001b[39mfrom\u001b[39;00m \u001b[39mpandas\u001b[39;00m\u001b[39m.\u001b[39;00m\u001b[39mio\u001b[39;00m \u001b[39mimport\u001b[39;00m sql\n\u001b[0;32m-> 2987\u001b[0m \u001b[39mreturn\u001b[39;00m sql\u001b[39m.\u001b[39;49mto_sql(\n\u001b[1;32m   2988\u001b[0m     \u001b[39mself\u001b[39;49m,\n\u001b[1;32m   2989\u001b[0m     name,\n\u001b[1;32m   2990\u001b[0m     con,\n\u001b[1;32m   2991\u001b[0m     schema\u001b[39m=\u001b[39;49mschema,\n\u001b[1;32m   2992\u001b[0m     if_exists\u001b[39m=\u001b[39;49mif_exists,\n\u001b[1;32m   2993\u001b[0m     index\u001b[39m=\u001b[39;49mindex,\n\u001b[1;32m   2994\u001b[0m     index_label\u001b[39m=\u001b[39;49mindex_label,\n\u001b[1;32m   2995\u001b[0m     chunksize\u001b[39m=\u001b[39;49mchunksize,\n\u001b[1;32m   2996\u001b[0m     dtype\u001b[39m=\u001b[39;49mdtype,\n\u001b[1;32m   2997\u001b[0m     method\u001b[39m=\u001b[39;49mmethod,\n\u001b[1;32m   2998\u001b[0m )\n",
      "File \u001b[0;32m/opt/homebrew/Caskroom/miniforge/base/lib/python3.10/site-packages/pandas/io/sql.py:695\u001b[0m, in \u001b[0;36mto_sql\u001b[0;34m(frame, name, con, schema, if_exists, index, index_label, chunksize, dtype, method, engine, **engine_kwargs)\u001b[0m\n\u001b[1;32m    690\u001b[0m \u001b[39melif\u001b[39;00m \u001b[39mnot\u001b[39;00m \u001b[39misinstance\u001b[39m(frame, DataFrame):\n\u001b[1;32m    691\u001b[0m     \u001b[39mraise\u001b[39;00m \u001b[39mNotImplementedError\u001b[39;00m(\n\u001b[1;32m    692\u001b[0m         \u001b[39m\"\u001b[39m\u001b[39m'\u001b[39m\u001b[39mframe\u001b[39m\u001b[39m'\u001b[39m\u001b[39m argument should be either a Series or a DataFrame\u001b[39m\u001b[39m\"\u001b[39m\n\u001b[1;32m    693\u001b[0m     )\n\u001b[0;32m--> 695\u001b[0m \u001b[39mreturn\u001b[39;00m pandas_sql\u001b[39m.\u001b[39;49mto_sql(\n\u001b[1;32m    696\u001b[0m     frame,\n\u001b[1;32m    697\u001b[0m     name,\n\u001b[1;32m    698\u001b[0m     if_exists\u001b[39m=\u001b[39;49mif_exists,\n\u001b[1;32m    699\u001b[0m     index\u001b[39m=\u001b[39;49mindex,\n\u001b[1;32m    700\u001b[0m     index_label\u001b[39m=\u001b[39;49mindex_label,\n\u001b[1;32m    701\u001b[0m     schema\u001b[39m=\u001b[39;49mschema,\n\u001b[1;32m    702\u001b[0m     chunksize\u001b[39m=\u001b[39;49mchunksize,\n\u001b[1;32m    703\u001b[0m     dtype\u001b[39m=\u001b[39;49mdtype,\n\u001b[1;32m    704\u001b[0m     method\u001b[39m=\u001b[39;49mmethod,\n\u001b[1;32m    705\u001b[0m     engine\u001b[39m=\u001b[39;49mengine,\n\u001b[1;32m    706\u001b[0m     \u001b[39m*\u001b[39;49m\u001b[39m*\u001b[39;49mengine_kwargs,\n\u001b[1;32m    707\u001b[0m )\n",
      "File \u001b[0;32m/opt/homebrew/Caskroom/miniforge/base/lib/python3.10/site-packages/pandas/io/sql.py:1738\u001b[0m, in \u001b[0;36mSQLDatabase.to_sql\u001b[0;34m(self, frame, name, if_exists, index, index_label, schema, chunksize, dtype, method, engine, **engine_kwargs)\u001b[0m\n\u001b[1;32m   1726\u001b[0m sql_engine \u001b[39m=\u001b[39m get_engine(engine)\n\u001b[1;32m   1728\u001b[0m table \u001b[39m=\u001b[39m \u001b[39mself\u001b[39m\u001b[39m.\u001b[39mprep_table(\n\u001b[1;32m   1729\u001b[0m     frame\u001b[39m=\u001b[39mframe,\n\u001b[1;32m   1730\u001b[0m     name\u001b[39m=\u001b[39mname,\n\u001b[0;32m   (...)\u001b[0m\n\u001b[1;32m   1735\u001b[0m     dtype\u001b[39m=\u001b[39mdtype,\n\u001b[1;32m   1736\u001b[0m )\n\u001b[0;32m-> 1738\u001b[0m total_inserted \u001b[39m=\u001b[39m sql_engine\u001b[39m.\u001b[39;49minsert_records(\n\u001b[1;32m   1739\u001b[0m     table\u001b[39m=\u001b[39;49mtable,\n\u001b[1;32m   1740\u001b[0m     con\u001b[39m=\u001b[39;49m\u001b[39mself\u001b[39;49m\u001b[39m.\u001b[39;49mconnectable,\n\u001b[1;32m   1741\u001b[0m     frame\u001b[39m=\u001b[39;49mframe,\n\u001b[1;32m   1742\u001b[0m     name\u001b[39m=\u001b[39;49mname,\n\u001b[1;32m   1743\u001b[0m     index\u001b[39m=\u001b[39;49mindex,\n\u001b[1;32m   1744\u001b[0m     schema\u001b[39m=\u001b[39;49mschema,\n\u001b[1;32m   1745\u001b[0m     chunksize\u001b[39m=\u001b[39;49mchunksize,\n\u001b[1;32m   1746\u001b[0m     method\u001b[39m=\u001b[39;49mmethod,\n\u001b[1;32m   1747\u001b[0m     \u001b[39m*\u001b[39;49m\u001b[39m*\u001b[39;49mengine_kwargs,\n\u001b[1;32m   1748\u001b[0m )\n\u001b[1;32m   1750\u001b[0m \u001b[39mself\u001b[39m\u001b[39m.\u001b[39mcheck_case_sensitive(name\u001b[39m=\u001b[39mname, schema\u001b[39m=\u001b[39mschema)\n\u001b[1;32m   1751\u001b[0m \u001b[39mreturn\u001b[39;00m total_inserted\n",
      "File \u001b[0;32m/opt/homebrew/Caskroom/miniforge/base/lib/python3.10/site-packages/pandas/io/sql.py:1335\u001b[0m, in \u001b[0;36mSQLAlchemyEngine.insert_records\u001b[0;34m(self, table, con, frame, name, index, schema, chunksize, method, **engine_kwargs)\u001b[0m\n\u001b[1;32m   1333\u001b[0m     \u001b[39mraise\u001b[39;00m \u001b[39mValueError\u001b[39;00m(\u001b[39m\"\u001b[39m\u001b[39minf cannot be used with MySQL\u001b[39m\u001b[39m\"\u001b[39m) \u001b[39mfrom\u001b[39;00m \u001b[39merr\u001b[39;00m\n\u001b[1;32m   1334\u001b[0m \u001b[39melse\u001b[39;00m:\n\u001b[0;32m-> 1335\u001b[0m     \u001b[39mraise\u001b[39;00m err\n",
      "File \u001b[0;32m/opt/homebrew/Caskroom/miniforge/base/lib/python3.10/site-packages/pandas/io/sql.py:1325\u001b[0m, in \u001b[0;36mSQLAlchemyEngine.insert_records\u001b[0;34m(self, table, con, frame, name, index, schema, chunksize, method, **engine_kwargs)\u001b[0m\n\u001b[1;32m   1322\u001b[0m \u001b[39mfrom\u001b[39;00m \u001b[39msqlalchemy\u001b[39;00m \u001b[39mimport\u001b[39;00m exc\n\u001b[1;32m   1324\u001b[0m \u001b[39mtry\u001b[39;00m:\n\u001b[0;32m-> 1325\u001b[0m     \u001b[39mreturn\u001b[39;00m table\u001b[39m.\u001b[39;49minsert(chunksize\u001b[39m=\u001b[39;49mchunksize, method\u001b[39m=\u001b[39;49mmethod)\n\u001b[1;32m   1326\u001b[0m \u001b[39mexcept\u001b[39;00m exc\u001b[39m.\u001b[39mSQLAlchemyError \u001b[39mas\u001b[39;00m err:\n\u001b[1;32m   1327\u001b[0m     \u001b[39m# GH34431\u001b[39;00m\n\u001b[1;32m   1328\u001b[0m     \u001b[39m# https://stackoverflow.com/a/67358288/6067848\u001b[39;00m\n\u001b[1;32m   1329\u001b[0m     msg \u001b[39m=\u001b[39m \u001b[39mr\u001b[39m\u001b[39m\"\"\"\u001b[39m\u001b[39m(\u001b[39m\u001b[39m\\\u001b[39m\u001b[39m(1054, \u001b[39m\u001b[39m\"\u001b[39m\u001b[39mUnknown column \u001b[39m\u001b[39m'\u001b[39m\u001b[39minf(e0)?\u001b[39m\u001b[39m'\u001b[39m\u001b[39m in \u001b[39m\u001b[39m'\u001b[39m\u001b[39mfield list\u001b[39m\u001b[39m'\u001b[39m\u001b[39m\"\u001b[39m\u001b[39m\\\u001b[39m\u001b[39m))(?#\u001b[39m\n\u001b[1;32m   1330\u001b[0m \u001b[39m    )|inf can not be used with MySQL\u001b[39m\u001b[39m\"\"\"\u001b[39m\n",
      "File \u001b[0;32m/opt/homebrew/Caskroom/miniforge/base/lib/python3.10/site-packages/pandas/io/sql.py:946\u001b[0m, in \u001b[0;36mSQLTable.insert\u001b[0;34m(self, chunksize, method)\u001b[0m\n\u001b[1;32m    943\u001b[0m     \u001b[39mbreak\u001b[39;00m\n\u001b[1;32m    945\u001b[0m chunk_iter \u001b[39m=\u001b[39m \u001b[39mzip\u001b[39m(\u001b[39m*\u001b[39m(arr[start_i:end_i] \u001b[39mfor\u001b[39;00m arr \u001b[39min\u001b[39;00m data_list))\n\u001b[0;32m--> 946\u001b[0m num_inserted \u001b[39m=\u001b[39m exec_insert(conn, keys, chunk_iter)\n\u001b[1;32m    947\u001b[0m \u001b[39m# GH 46891\u001b[39;00m\n\u001b[1;32m    948\u001b[0m \u001b[39mif\u001b[39;00m is_integer(num_inserted):\n",
      "File \u001b[0;32m/opt/homebrew/Caskroom/miniforge/base/lib/python3.10/site-packages/pandas/io/sql.py:853\u001b[0m, in \u001b[0;36mSQLTable._execute_insert\u001b[0;34m(self, conn, keys, data_iter)\u001b[0m\n\u001b[1;32m    841\u001b[0m \u001b[39m\"\"\"\u001b[39;00m\n\u001b[1;32m    842\u001b[0m \u001b[39mExecute SQL statement inserting data\u001b[39;00m\n\u001b[1;32m    843\u001b[0m \n\u001b[0;32m   (...)\u001b[0m\n\u001b[1;32m    850\u001b[0m \u001b[39m   Each item contains a list of values to be inserted\u001b[39;00m\n\u001b[1;32m    851\u001b[0m \u001b[39m\"\"\"\u001b[39;00m\n\u001b[1;32m    852\u001b[0m data \u001b[39m=\u001b[39m [\u001b[39mdict\u001b[39m(\u001b[39mzip\u001b[39m(keys, row)) \u001b[39mfor\u001b[39;00m row \u001b[39min\u001b[39;00m data_iter]\n\u001b[0;32m--> 853\u001b[0m result \u001b[39m=\u001b[39m conn\u001b[39m.\u001b[39;49mexecute(\u001b[39mself\u001b[39;49m\u001b[39m.\u001b[39;49mtable\u001b[39m.\u001b[39;49minsert(), data)\n\u001b[1;32m    854\u001b[0m \u001b[39mreturn\u001b[39;00m result\u001b[39m.\u001b[39mrowcount\n",
      "File \u001b[0;32m/opt/homebrew/Caskroom/miniforge/base/lib/python3.10/site-packages/sqlalchemy/engine/base.py:1380\u001b[0m, in \u001b[0;36mConnection.execute\u001b[0;34m(self, statement, *multiparams, **params)\u001b[0m\n\u001b[1;32m   1376\u001b[0m     util\u001b[39m.\u001b[39mraise_(\n\u001b[1;32m   1377\u001b[0m         exc\u001b[39m.\u001b[39mObjectNotExecutableError(statement), replace_context\u001b[39m=\u001b[39merr\n\u001b[1;32m   1378\u001b[0m     )\n\u001b[1;32m   1379\u001b[0m \u001b[39melse\u001b[39;00m:\n\u001b[0;32m-> 1380\u001b[0m     \u001b[39mreturn\u001b[39;00m meth(\u001b[39mself\u001b[39;49m, multiparams, params, _EMPTY_EXECUTION_OPTS)\n",
      "File \u001b[0;32m/opt/homebrew/Caskroom/miniforge/base/lib/python3.10/site-packages/sqlalchemy/sql/elements.py:334\u001b[0m, in \u001b[0;36mClauseElement._execute_on_connection\u001b[0;34m(self, connection, multiparams, params, execution_options, _force)\u001b[0m\n\u001b[1;32m    330\u001b[0m \u001b[39mdef\u001b[39;00m \u001b[39m_execute_on_connection\u001b[39m(\n\u001b[1;32m    331\u001b[0m     \u001b[39mself\u001b[39m, connection, multiparams, params, execution_options, _force\u001b[39m=\u001b[39m\u001b[39mFalse\u001b[39;00m\n\u001b[1;32m    332\u001b[0m ):\n\u001b[1;32m    333\u001b[0m     \u001b[39mif\u001b[39;00m _force \u001b[39mor\u001b[39;00m \u001b[39mself\u001b[39m\u001b[39m.\u001b[39msupports_execution:\n\u001b[0;32m--> 334\u001b[0m         \u001b[39mreturn\u001b[39;00m connection\u001b[39m.\u001b[39;49m_execute_clauseelement(\n\u001b[1;32m    335\u001b[0m             \u001b[39mself\u001b[39;49m, multiparams, params, execution_options\n\u001b[1;32m    336\u001b[0m         )\n\u001b[1;32m    337\u001b[0m     \u001b[39melse\u001b[39;00m:\n\u001b[1;32m    338\u001b[0m         \u001b[39mraise\u001b[39;00m exc\u001b[39m.\u001b[39mObjectNotExecutableError(\u001b[39mself\u001b[39m)\n",
      "File \u001b[0;32m/opt/homebrew/Caskroom/miniforge/base/lib/python3.10/site-packages/sqlalchemy/engine/base.py:1572\u001b[0m, in \u001b[0;36mConnection._execute_clauseelement\u001b[0;34m(self, elem, multiparams, params, execution_options)\u001b[0m\n\u001b[1;32m   1560\u001b[0m compiled_cache \u001b[39m=\u001b[39m execution_options\u001b[39m.\u001b[39mget(\n\u001b[1;32m   1561\u001b[0m     \u001b[39m\"\u001b[39m\u001b[39mcompiled_cache\u001b[39m\u001b[39m\"\u001b[39m, \u001b[39mself\u001b[39m\u001b[39m.\u001b[39mengine\u001b[39m.\u001b[39m_compiled_cache\n\u001b[1;32m   1562\u001b[0m )\n\u001b[1;32m   1564\u001b[0m compiled_sql, extracted_params, cache_hit \u001b[39m=\u001b[39m elem\u001b[39m.\u001b[39m_compile_w_cache(\n\u001b[1;32m   1565\u001b[0m     dialect\u001b[39m=\u001b[39mdialect,\n\u001b[1;32m   1566\u001b[0m     compiled_cache\u001b[39m=\u001b[39mcompiled_cache,\n\u001b[0;32m   (...)\u001b[0m\n\u001b[1;32m   1570\u001b[0m     linting\u001b[39m=\u001b[39m\u001b[39mself\u001b[39m\u001b[39m.\u001b[39mdialect\u001b[39m.\u001b[39mcompiler_linting \u001b[39m|\u001b[39m compiler\u001b[39m.\u001b[39mWARN_LINTING,\n\u001b[1;32m   1571\u001b[0m )\n\u001b[0;32m-> 1572\u001b[0m ret \u001b[39m=\u001b[39m \u001b[39mself\u001b[39;49m\u001b[39m.\u001b[39;49m_execute_context(\n\u001b[1;32m   1573\u001b[0m     dialect,\n\u001b[1;32m   1574\u001b[0m     dialect\u001b[39m.\u001b[39;49mexecution_ctx_cls\u001b[39m.\u001b[39;49m_init_compiled,\n\u001b[1;32m   1575\u001b[0m     compiled_sql,\n\u001b[1;32m   1576\u001b[0m     distilled_params,\n\u001b[1;32m   1577\u001b[0m     execution_options,\n\u001b[1;32m   1578\u001b[0m     compiled_sql,\n\u001b[1;32m   1579\u001b[0m     distilled_params,\n\u001b[1;32m   1580\u001b[0m     elem,\n\u001b[1;32m   1581\u001b[0m     extracted_params,\n\u001b[1;32m   1582\u001b[0m     cache_hit\u001b[39m=\u001b[39;49mcache_hit,\n\u001b[1;32m   1583\u001b[0m )\n\u001b[1;32m   1584\u001b[0m \u001b[39mif\u001b[39;00m has_events:\n\u001b[1;32m   1585\u001b[0m     \u001b[39mself\u001b[39m\u001b[39m.\u001b[39mdispatch\u001b[39m.\u001b[39mafter_execute(\n\u001b[1;32m   1586\u001b[0m         \u001b[39mself\u001b[39m,\n\u001b[1;32m   1587\u001b[0m         elem,\n\u001b[0;32m   (...)\u001b[0m\n\u001b[1;32m   1591\u001b[0m         ret,\n\u001b[1;32m   1592\u001b[0m     )\n",
      "File \u001b[0;32m/opt/homebrew/Caskroom/miniforge/base/lib/python3.10/site-packages/sqlalchemy/engine/base.py:1943\u001b[0m, in \u001b[0;36mConnection._execute_context\u001b[0;34m(self, dialect, constructor, statement, parameters, execution_options, *args, **kw)\u001b[0m\n\u001b[1;32m   1940\u001b[0m             branched\u001b[39m.\u001b[39mclose()\n\u001b[1;32m   1942\u001b[0m \u001b[39mexcept\u001b[39;00m \u001b[39mBaseException\u001b[39;00m \u001b[39mas\u001b[39;00m e:\n\u001b[0;32m-> 1943\u001b[0m     \u001b[39mself\u001b[39;49m\u001b[39m.\u001b[39;49m_handle_dbapi_exception(\n\u001b[1;32m   1944\u001b[0m         e, statement, parameters, cursor, context\n\u001b[1;32m   1945\u001b[0m     )\n\u001b[1;32m   1947\u001b[0m \u001b[39mreturn\u001b[39;00m result\n",
      "File \u001b[0;32m/opt/homebrew/Caskroom/miniforge/base/lib/python3.10/site-packages/sqlalchemy/engine/base.py:2124\u001b[0m, in \u001b[0;36mConnection._handle_dbapi_exception\u001b[0;34m(self, e, statement, parameters, cursor, context)\u001b[0m\n\u001b[1;32m   2122\u001b[0m     util\u001b[39m.\u001b[39mraise_(newraise, with_traceback\u001b[39m=\u001b[39mexc_info[\u001b[39m2\u001b[39m], from_\u001b[39m=\u001b[39me)\n\u001b[1;32m   2123\u001b[0m \u001b[39melif\u001b[39;00m should_wrap:\n\u001b[0;32m-> 2124\u001b[0m     util\u001b[39m.\u001b[39;49mraise_(\n\u001b[1;32m   2125\u001b[0m         sqlalchemy_exception, with_traceback\u001b[39m=\u001b[39;49mexc_info[\u001b[39m2\u001b[39;49m], from_\u001b[39m=\u001b[39;49me\n\u001b[1;32m   2126\u001b[0m     )\n\u001b[1;32m   2127\u001b[0m \u001b[39melse\u001b[39;00m:\n\u001b[1;32m   2128\u001b[0m     util\u001b[39m.\u001b[39mraise_(exc_info[\u001b[39m1\u001b[39m], with_traceback\u001b[39m=\u001b[39mexc_info[\u001b[39m2\u001b[39m])\n",
      "File \u001b[0;32m/opt/homebrew/Caskroom/miniforge/base/lib/python3.10/site-packages/sqlalchemy/util/compat.py:210\u001b[0m, in \u001b[0;36mraise_\u001b[0;34m(***failed resolving arguments***)\u001b[0m\n\u001b[1;32m    207\u001b[0m     exception\u001b[39m.\u001b[39m__cause__ \u001b[39m=\u001b[39m replace_context\n\u001b[1;32m    209\u001b[0m \u001b[39mtry\u001b[39;00m:\n\u001b[0;32m--> 210\u001b[0m     \u001b[39mraise\u001b[39;00m exception\n\u001b[1;32m    211\u001b[0m \u001b[39mfinally\u001b[39;00m:\n\u001b[1;32m    212\u001b[0m     \u001b[39m# credit to\u001b[39;00m\n\u001b[1;32m    213\u001b[0m     \u001b[39m# https://cosmicpercolator.com/2016/01/13/exception-leaks-in-python-2-and-3/\u001b[39;00m\n\u001b[1;32m    214\u001b[0m     \u001b[39m# as the __traceback__ object creates a cycle\u001b[39;00m\n\u001b[1;32m    215\u001b[0m     \u001b[39mdel\u001b[39;00m exception, replace_context, from_, with_traceback\n",
      "File \u001b[0;32m/opt/homebrew/Caskroom/miniforge/base/lib/python3.10/site-packages/sqlalchemy/engine/base.py:1880\u001b[0m, in \u001b[0;36mConnection._execute_context\u001b[0;34m(self, dialect, constructor, statement, parameters, execution_options, *args, **kw)\u001b[0m\n\u001b[1;32m   1878\u001b[0m                 \u001b[39mbreak\u001b[39;00m\n\u001b[1;32m   1879\u001b[0m     \u001b[39mif\u001b[39;00m \u001b[39mnot\u001b[39;00m evt_handled:\n\u001b[0;32m-> 1880\u001b[0m         \u001b[39mself\u001b[39;49m\u001b[39m.\u001b[39;49mdialect\u001b[39m.\u001b[39;49mdo_executemany(\n\u001b[1;32m   1881\u001b[0m             cursor, statement, parameters, context\n\u001b[1;32m   1882\u001b[0m         )\n\u001b[1;32m   1883\u001b[0m \u001b[39melif\u001b[39;00m \u001b[39mnot\u001b[39;00m parameters \u001b[39mand\u001b[39;00m context\u001b[39m.\u001b[39mno_parameters:\n\u001b[1;32m   1884\u001b[0m     \u001b[39mif\u001b[39;00m \u001b[39mself\u001b[39m\u001b[39m.\u001b[39mdialect\u001b[39m.\u001b[39m_has_events:\n",
      "File \u001b[0;32m/opt/homebrew/Caskroom/miniforge/base/lib/python3.10/site-packages/sqlalchemy/dialects/postgresql/psycopg2.py:982\u001b[0m, in \u001b[0;36mPGDialect_psycopg2.do_executemany\u001b[0;34m(self, cursor, statement, parameters, context)\u001b[0m\n\u001b[1;32m    980\u001b[0m         kwargs \u001b[39m=\u001b[39m {}\n\u001b[1;32m    981\u001b[0m     xtras \u001b[39m=\u001b[39m \u001b[39mself\u001b[39m\u001b[39m.\u001b[39m_psycopg2_extras()\n\u001b[0;32m--> 982\u001b[0m     context\u001b[39m.\u001b[39m_psycopg2_fetched_rows \u001b[39m=\u001b[39m xtras\u001b[39m.\u001b[39;49mexecute_values(\n\u001b[1;32m    983\u001b[0m         cursor,\n\u001b[1;32m    984\u001b[0m         statement,\n\u001b[1;32m    985\u001b[0m         parameters,\n\u001b[1;32m    986\u001b[0m         template\u001b[39m=\u001b[39;49mexecutemany_values,\n\u001b[1;32m    987\u001b[0m         fetch\u001b[39m=\u001b[39;49m\u001b[39mbool\u001b[39;49m(context\u001b[39m.\u001b[39;49mcompiled\u001b[39m.\u001b[39;49mreturning),\n\u001b[1;32m    988\u001b[0m         \u001b[39m*\u001b[39;49m\u001b[39m*\u001b[39;49mkwargs\n\u001b[1;32m    989\u001b[0m     )\n\u001b[1;32m    991\u001b[0m \u001b[39melif\u001b[39;00m \u001b[39mself\u001b[39m\u001b[39m.\u001b[39mexecutemany_mode \u001b[39m&\u001b[39m EXECUTEMANY_BATCH:\n\u001b[1;32m    992\u001b[0m     \u001b[39mif\u001b[39;00m \u001b[39mself\u001b[39m\u001b[39m.\u001b[39mexecutemany_batch_page_size:\n",
      "File \u001b[0;32m/opt/homebrew/Caskroom/miniforge/base/lib/python3.10/site-packages/psycopg2/extras.py:1299\u001b[0m, in \u001b[0;36mexecute_values\u001b[0;34m(cur, sql, argslist, template, page_size, fetch)\u001b[0m\n\u001b[1;32m   1297\u001b[0m     parts\u001b[39m.\u001b[39mappend(\u001b[39mb\u001b[39m\u001b[39m'\u001b[39m\u001b[39m,\u001b[39m\u001b[39m'\u001b[39m)\n\u001b[1;32m   1298\u001b[0m parts[\u001b[39m-\u001b[39m\u001b[39m1\u001b[39m:] \u001b[39m=\u001b[39m post\n\u001b[0;32m-> 1299\u001b[0m cur\u001b[39m.\u001b[39;49mexecute(\u001b[39mb\u001b[39;49m\u001b[39m'\u001b[39;49m\u001b[39m'\u001b[39;49m\u001b[39m.\u001b[39;49mjoin(parts))\n\u001b[1;32m   1300\u001b[0m \u001b[39mif\u001b[39;00m fetch:\n\u001b[1;32m   1301\u001b[0m     result\u001b[39m.\u001b[39mextend(cur\u001b[39m.\u001b[39mfetchall())\n",
      "\u001b[0;31mProgrammingError\u001b[0m: (psycopg2.errors.UndefinedColumn) column \"close_date\" of relation \"prediction\" does not exist\nLINE 1: INSERT INTO prediction (symbol, close_date, total_num_trades...\n                                        ^\n\n[SQL: INSERT INTO prediction (symbol, close_date, total_num_trades, total_base_volume, total_quote_volume) VALUES (%(symbol)s, %(close_date)s, %(total_num_trades)s, %(total_base_volume)s, %(total_quote_volume)s)]\n[parameters: ({'symbol': 'ADAUSDT', 'close_date': datetime.date(2022, 11, 21), 'total_num_trades': 1588, 'total_base_volume': 1656323.8, 'total_quote_volume': 505331.43651}, {'symbol': 'BNBUSDT', 'close_date': datetime.date(2022, 11, 21), 'total_num_trades': 3866, 'total_base_volume': 4439.7789999999995, 'total_quote_volume': 1137825.1675}, {'symbol': 'BTCUSDT', 'close_date': datetime.date(2022, 11, 21), 'total_num_trades': 103011, 'total_base_volume': 3618.61689, 'total_quote_volume': 57204642.481162496}, {'symbol': 'DOGEUSDT', 'close_date': datetime.date(2022, 11, 21), 'total_num_trades': 5376, 'total_base_volume': 42041196.0, 'total_quote_volume': 3152763.94626}, {'symbol': 'DOTUSDT', 'close_date': datetime.date(2022, 11, 21), 'total_num_trades': 640, 'total_base_volume': 69999.66, 'total_quote_volume': 361916.8359}, {'symbol': 'ETHUSDT', 'close_date': datetime.date(2022, 11, 21), 'total_num_trades': 9716, 'total_base_volume': 7342.498, 'total_quote_volume': 8077432.107655}, {'symbol': 'MATICUSDT', 'close_date': datetime.date(2022, 11, 21), 'total_num_trades': 4175, 'total_base_volume': 1598645.1, 'total_quote_volume': 1274915.62709}, {'symbol': 'SOLUSDT', 'close_date': datetime.date(2022, 11, 21), 'total_num_trades': 2247, 'total_base_volume': 50989.81, 'total_quote_volume': 592729.2841}, {'symbol': 'XRPUSDT', 'close_date': datetime.date(2022, 11, 21), 'total_num_trades': 4379, 'total_base_volume': 12509407.0, 'total_quote_volume': 4475221.803})]\n(Background on this error at: https://sqlalche.me/e/14/f405)"
     ]
    }
   ],
   "source": [
    "#insert aggregate database to postgres\n",
    "table_name= 'aggregate_trade'\n",
    "display(agg_df)\n",
    "temp = agg_df.to_sql(table_name, engine, index=False, if_exists= 'append') "
   ]
  },
  {
   "cell_type": "code",
   "execution_count": null,
   "metadata": {},
   "outputs": [
    {
     "name": "stderr",
     "output_type": "stream",
     "text": [
      "/opt/homebrew/Caskroom/miniforge/base/lib/python3.10/site-packages/pyspark/sql/pandas/conversion.py:248: FutureWarning: Passing unit-less datetime64 dtype to .astype is deprecated and will raise in a future version. Pass 'datetime64[ns]' instead\n",
      "  series = series.astype(t, copy=False)\n",
      "/opt/homebrew/Caskroom/miniforge/base/lib/python3.10/site-packages/pyspark/sql/pandas/conversion.py:248: FutureWarning: Passing unit-less datetime64 dtype to .astype is deprecated and will raise in a future version. Pass 'datetime64[ns]' instead\n",
      "  series = series.astype(t, copy=False)\n"
     ]
    },
    {
     "data": {
      "text/plain": [
       "30"
      ]
     },
     "metadata": {},
     "output_type": "display_data"
    }
   ],
   "source": [
    "# temp = df.filter(\"symbol = 'ETHUSDT' \").toPandas().to_sql(\"ETHUSDT\", engine, index=False, if_exists= 'append')\n",
    "# display(temp)\n",
    "#.to_sql('ethusdt', engine, index=False, if_exists= 'append')"
   ]
  },
  {
   "cell_type": "code",
   "execution_count": null,
   "metadata": {},
   "outputs": [],
   "source": [
    "#TODO: IMPLEMENT AT LAST\n",
    "#code to delete all the csv files in the folder after all the operation is complete\n",
    "\n",
    "# for path in Path(file_path).glob('*'):\n",
    "#     if path.is_file():\n",
    "#         path.unlink()"
   ]
  },
  {
   "cell_type": "markdown",
   "metadata": {},
   "source": [
    "    \"t\": 123400000, // Kline start time\n",
    "    \"T\": 123460000, // Kline close time\n",
    "    \"s\": \"BNBBTC\",  // Symbol\n",
    "    \"i\": \"1m\",      // Interval\n",
    "    \"o\": \"0.0010\",  // Open price\n",
    "    \"c\": \"0.0020\",  // Close price\n",
    "    \"h\": \"0.0025\",  // High price\n",
    "    \"l\": \"0.0015\",  // Low price\n",
    "    \"v\": \"1000\",    //     \"t\": 123400000, // Kline start time\n",
    "    \"T\": 123460000, // Kline close time\n",
    "    \"s\": \"BNBBTC\",  // Symbol\n",
    "    \"i\": \"1m\",      // Interval\n",
    "    \"o\": \"0.0010\",  // Open price\n",
    "    \"c\": \"0.0020\",  // Close price\n",
    "    \"h\": \"0.0025\",  // High price\n",
    "    \"l\": \"0.0015\",  // Low price\n",
    "    \"v\": \"1000\",    // Base asset volume : the volume of the crypto you are buying\n",
    "    \"n\": 100,       // Number of trades\n",
    "    \"q\": \"1.0000\",  // Quote asset volume : the volume of the crypto you are selling\n",
    "    \"V\": \"500\",     // Taker buy base asset volume : explained below // The way i understand it its the volume where the buyer was the taker\n",
    "    \"Q\": \"0.500\",   // Taker buy quote asset volume\n",
    "\n",
    "Best explanation: \n",
    "\n",
    "- BNBBTC indicates BNB bought by using BTC\n",
    "like HDLRUPEE\n",
    "\n",
    "- BTC/USDT 8,243.35 (at the time of writing 10/2/19, 11:10 UTC, source HitBTC), means the base currency 1 BTC is traded against the quote currency USDT and exchanged for 8,243.35 USDT.\n",
    "\n",
    "- In a given market FOO/BAR, baseVolume indicates the total amount of FOO that has been bought and sold in this market in the past 24hrs, while quoteVolume is the total amount of BAR that has been bought and sold in this market in the past 24hrs. \n",
    "One more note: when you buy FOO on the FOO/BAR market, you are buying it for BAR, right? So, when you buy FOO for BAR, that means, you are actually selling BAR for FOO.\n",
    "\n",
    "- Buyer as a taker/Maker explained: For a trade to happen, there must be a buyer and a seller. The buyer could have placed an offer to buy, which the seller took. Or the seller could have placed an offer to sell, which the buyer took. These are the only two possibilities.\n",
    "If the buyer placed the offer which the seller later took, the buyer is the maker (he made liquidity available) and the seller is the taker (they took the buyer's offer). If the seller placed the offer which the buyer later took, the seller is the maker (he made liquidity available) and the buyer is the taker (they took the seller's offer).\n",
    "\n",
    "This matters for at least two reasons:\n",
    "\n",
    "1) Typically the maker pays a lower fee than the taker.\n",
    "\n",
    "2) This makes a difference in understanding what the price is telling you. For example, imagine if there's a market with people willing to sell apples for $1 and willing to buy apples for $0.90 -- if the price never changes, you will see transactions for $1 and transactions for $0.90, which might make you think the price is changing. But all the $1 trades will have the \"buyer is not maker\" flag and all the $0.90 trades will have the \"buyer is maker\" flag, allowing you to understand that the change in trade prices doesn't reflect any actual change in the market.\n",
    "\n",
    "- TAKER BUY Base asset volume:\n",
    "    Taker buy base asset volume represents how many of the total base asset volume are contributed by the taker buy orders. Once    taker_buy_base_asset_volume and the total volume (Volume) is known, the value of the following cases ( taker_sell_volume, maker_buy_volume,    maker_sell_volume ) are clear. \n",
    "\n",
    "    Every trade has a buyer and a seller. A buyer can be a maker or a taker. But when a buyer is a maker, the seller must be a taker, and vice versa. That is,\n",
    "\n",
    "    taker_buy_base_asset_volume = maker_sell_base_asset_volume\n",
    "\n",
    "    taker_sell_base_asset_volume = maker_buy_base_asset_volume\n",
    "\n",
    "    total_volume = taker_buy_base_asset_volume + taker_sell_base_asset_volume\n",
    "    = maker_buy_base_asset_volume + maker_sell_base_asset_volume\n",
    "\n",
    "\n",
    "\n",
    "Quote asset volume is total volume in units of the quote currency. \n",
    "Taker asset volume is the volume of market orders in units of the base and quote currency.\n",
    "    \"n\": 100,       // Number of trades\n",
    "    \"q\": \"1.0000\",  // Quote asset volume\n",
    "    \"V\": \"500\",     // Taker buy base asset volume\n",
    "    \"Q\": \"0.500\",   // Taker buy quote asset volume\n",
    "\n",
    "Quote asset volume is total volume in units of the quote currency. \n",
    "Taker asset volume is the volume of market orders in units of the base and quote currency.\n",
    "\n"
   ]
  }
 ],
 "metadata": {
  "kernelspec": {
   "display_name": "Python 3.10.6 ('base')",
   "language": "python",
   "name": "python3"
  },
  "language_info": {
   "codemirror_mode": {
    "name": "ipython",
    "version": 3
   },
   "file_extension": ".py",
   "mimetype": "text/x-python",
   "name": "python",
   "nbconvert_exporter": "python",
   "pygments_lexer": "ipython3",
   "version": "3.10.6"
  },
  "orig_nbformat": 4,
  "vscode": {
   "interpreter": {
    "hash": "c6e4e9f98eb68ad3b7c296f83d20e6de614cb42e90992a65aa266555a3137d0d"
   }
  }
 },
 "nbformat": 4,
 "nbformat_minor": 2
}
