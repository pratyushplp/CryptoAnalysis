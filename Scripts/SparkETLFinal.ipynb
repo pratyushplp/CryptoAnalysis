{
 "cells": [
  {
   "cell_type": "code",
   "execution_count": 42,
   "metadata": {},
   "outputs": [],
   "source": [
    "#NOTE IF WE CANT INSTALL PYSPARK IN THE CONDA ENVIRONMENT USING CONDA INSTALL \n",
    "#USR !pip3 install in code and it will work and go the the specific environment\n",
    "#!pip3 install pyspark\n"
   ]
  },
  {
   "cell_type": "code",
   "execution_count": 43,
   "metadata": {},
   "outputs": [],
   "source": [
    "import pyspark\n",
    "import pandas as pd\n",
    "from pyspark.sql import SparkSession\n",
    "from pyspark.sql.types import StructType, StructField, StringType, TimestampType, IntegerType, FloatType\n",
    "from pyspark.sql import functions as f\n",
    "from pyspark.sql import types as t\n",
    "from pyspark.sql import functions as f\n",
    "from pyspark.sql import types as t\n",
    "import psycopg2\n",
    "from sqlalchemy import create_engine\n",
    "from pathlib import Path\n",
    "\n",
    "spark = SparkSession.builder.appName('final').getOrCreate()\n",
    "\n",
    "#The columns are in capital and small so we have to make it case, sensetive. By default its off.\n",
    "spark.conf.set('spark.sql.caseSensitive', True)\n",
    "\n",
    "file_path = '/Users/pratyushpradhan/Developer/Personal/Projects/Crypto/RealTimeData'\n",
    "df = spark.read.option('header','true').csv(file_path, inferSchema=True)\n"
   ]
  },
  {
   "cell_type": "code",
   "execution_count": 44,
   "metadata": {},
   "outputs": [],
   "source": [
    "\n",
    "#TODO:  6 perform analytics task thorugh filter and search group by columns\n",
    "\n",
    "#TRANSFORMATION\n",
    "\n",
    "#drop columns\n",
    "df= df.drop('B','x','f','L')\n",
    "\n",
    "#rename\n",
    "col_list=['start_time','close_time','symbol','interval','open','close','high','low','base_volume','num_trades'\n",
    ",'quote_volume','taker_buy_base_volume','taker_buy_quote_volume']\n",
    "df = df.toDF(*col_list)\n",
    "\n",
    "#drop column if value null\n",
    "df= df.na.drop(how='any', subset=['symbol','start_time','close_time','open','close','high','low','base_volume'])"
   ]
  },
  {
   "cell_type": "code",
   "execution_count": 45,
   "metadata": {},
   "outputs": [],
   "source": [
    "#update date values from unix epoch timestamp to timestamp\n",
    "#NOTE Unix epoch time is utc by default\n",
    "df = df.withColumn('start_time', f.to_timestamp(df.start_time/1000)).withColumn('close_time', f.to_timestamp(df.close_time/1000))"
   ]
  },
  {
   "cell_type": "code",
   "execution_count": 46,
   "metadata": {},
   "outputs": [],
   "source": [
    "#get distinct symbols from all columns\n",
    "dist_symbols = df.select('symbol').distinct().rdd.flatMap(lambda x:x).collect()\n"
   ]
  },
  {
   "cell_type": "code",
   "execution_count": 47,
   "metadata": {},
   "outputs": [],
   "source": [
    "def createConnection(database,user,password,host,port):\n",
    "    return create_engine(f\"postgresql+psycopg2://{user}:{password}@{host}:{port}/{database}?client_encoding=utf8\")\n",
    "\n",
    "#load data to database\n",
    "#TODO: CREATE CONFIG fiLE\n",
    "database='crypto'\n",
    "user='cryptouser'\n",
    "password= 'secretcrypto' \n",
    "host='127.0.0.1'\n",
    "port= '5432'\n",
    "\n",
    "#TODO: implement try catch  and logging\n",
    "engine = createConnection(database,user,password,host,port)"
   ]
  },
  {
   "cell_type": "code",
   "execution_count": 54,
   "metadata": {},
   "outputs": [
    {
     "data": {
      "text/html": [
       "<div>\n",
       "<style scoped>\n",
       "    .dataframe tbody tr th:only-of-type {\n",
       "        vertical-align: middle;\n",
       "    }\n",
       "\n",
       "    .dataframe tbody tr th {\n",
       "        vertical-align: top;\n",
       "    }\n",
       "\n",
       "    .dataframe thead th {\n",
       "        text-align: right;\n",
       "    }\n",
       "</style>\n",
       "<table border=\"1\" class=\"dataframe\">\n",
       "  <thead>\n",
       "    <tr style=\"text-align: right;\">\n",
       "      <th></th>\n",
       "      <th>start_time</th>\n",
       "      <th>close_time</th>\n",
       "      <th>symbol</th>\n",
       "      <th>interval</th>\n",
       "      <th>open</th>\n",
       "      <th>close</th>\n",
       "      <th>high</th>\n",
       "      <th>low</th>\n",
       "      <th>base_volume</th>\n",
       "      <th>num_trades</th>\n",
       "      <th>quote_volume</th>\n",
       "      <th>taker_buy_base_volume</th>\n",
       "      <th>taker_buy_quote_volume</th>\n",
       "    </tr>\n",
       "  </thead>\n",
       "  <tbody>\n",
       "  </tbody>\n",
       "</table>\n",
       "</div>"
      ],
      "text/plain": [
       "Empty DataFrame\n",
       "Columns: [start_time, close_time, symbol, interval, open, close, high, low, base_volume, num_trades, quote_volume, taker_buy_base_volume, taker_buy_quote_volume]\n",
       "Index: []"
      ]
     },
     "metadata": {},
     "output_type": "display_data"
    }
   ],
   "source": [
    "temp = df.filter(f\"symbol = 'ethusdt' \").toPandas()\n",
    "display(temp)"
   ]
  },
  {
   "cell_type": "code",
   "execution_count": 49,
   "metadata": {},
   "outputs": [
    {
     "ename": "AnalysisException",
     "evalue": "Column 'btcusdt' does not exist. Did you mean one of the following? [close, high, interval, low, open, symbol, start_time, close_time, num_trades, base_volume, quote_volume, taker_buy_base_volume, taker_buy_quote_volume]; line 1 pos 9;\n'Filter (symbol#1091 = 'btcusdt)\n+- Project [start_time#1128, to_timestamp((cast(close_time#1090L as double) / cast(1000 as double)), None, TimestampType, Some(America/Chicago)) AS close_time#1142, symbol#1091, interval#1092, open#1093, close#1094, high#1095, low#1096, base_volume#1097, num_trades#1098, quote_volume#1099, taker_buy_base_volume#1100, taker_buy_quote_volume#1101]\n   +- Project [to_timestamp((cast(start_time#1089L as double) / cast(1000 as double)), None, TimestampType, Some(America/Chicago)) AS start_time#1128, close_time#1090L, symbol#1091, interval#1092, open#1093, close#1094, high#1095, low#1096, base_volume#1097, num_trades#1098, quote_volume#1099, taker_buy_base_volume#1100, taker_buy_quote_volume#1101]\n      +- Filter atleastnnonnulls(8, symbol#1091, start_time#1089L, close_time#1090L, open#1093, close#1094, high#1095, low#1096, base_volume#1097)\n         +- Project [t#1041L AS start_time#1089L, T#1042L AS close_time#1090L, s#1043 AS symbol#1091, i#1044 AS interval#1092, o#1047 AS open#1093, c#1048 AS close#1094, h#1049 AS high#1095, l#1050 AS low#1096, v#1051 AS base_volume#1097, n#1052 AS num_trades#1098, q#1054 AS quote_volume#1099, V#1055 AS taker_buy_base_volume#1100, Q#1056 AS taker_buy_quote_volume#1101]\n            +- Project [t#1041L, T#1042L, s#1043, i#1044, o#1047, c#1048, h#1049, l#1050, v#1051, n#1052, q#1054, V#1055, Q#1056]\n               +- Relation [t#1041L,T#1042L,s#1043,i#1044,f#1045L,L#1046L,o#1047,c#1048,h#1049,l#1050,v#1051,n#1052,x#1053,q#1054,V#1055,Q#1056,B#1057] csv\n",
     "output_type": "error",
     "traceback": [
      "\u001b[0;31m---------------------------------------------------------------------------\u001b[0m",
      "\u001b[0;31mAnalysisException\u001b[0m                         Traceback (most recent call last)",
      "Cell \u001b[0;32mIn [49], line 5\u001b[0m\n\u001b[1;32m      1\u001b[0m \u001b[39mfor\u001b[39;00m value \u001b[39min\u001b[39;00m dist_symbols:\n\u001b[1;32m      2\u001b[0m     \u001b[39m#note that the data table name is same as symbol name\u001b[39;00m\n\u001b[1;32m      3\u001b[0m     \u001b[39m# TODO: if time add a query so that if new symbol comes and its corresponding datatable does not exist, create new table with a predefined schema\u001b[39;00m\n\u001b[1;32m      4\u001b[0m     \u001b[39m#NOTE: always  \" \" inside filter at start function no ''\u001b[39;00m\n\u001b[0;32m----> 5\u001b[0m     df\u001b[39m.\u001b[39;49mfilter(\u001b[39mf\u001b[39;49m\u001b[39m\"\u001b[39;49m\u001b[39msymbol = \u001b[39;49m\u001b[39m{\u001b[39;49;00mvalue\u001b[39m}\u001b[39;49;00m\u001b[39m \u001b[39;49m\u001b[39m\"\u001b[39;49m)\u001b[39m.\u001b[39mtoPandas()\u001b[39m.\u001b[39mto_sql(value, engine, index\u001b[39m=\u001b[39m\u001b[39mFalse\u001b[39;00m, if_exists\u001b[39m=\u001b[39m \u001b[39m'\u001b[39m\u001b[39mappend\u001b[39m\u001b[39m'\u001b[39m)\n",
      "File \u001b[0;32m/opt/homebrew/Caskroom/miniforge/base/lib/python3.10/site-packages/pyspark/sql/dataframe.py:2077\u001b[0m, in \u001b[0;36mDataFrame.filter\u001b[0;34m(self, condition)\u001b[0m\n\u001b[1;32m   2052\u001b[0m \u001b[39m\"\"\"Filters rows using the given condition.\u001b[39;00m\n\u001b[1;32m   2053\u001b[0m \n\u001b[1;32m   2054\u001b[0m \u001b[39m:func:`where` is an alias for :func:`filter`.\u001b[39;00m\n\u001b[0;32m   (...)\u001b[0m\n\u001b[1;32m   2074\u001b[0m \u001b[39m[Row(age=2, name='Alice')]\u001b[39;00m\n\u001b[1;32m   2075\u001b[0m \u001b[39m\"\"\"\u001b[39;00m\n\u001b[1;32m   2076\u001b[0m \u001b[39mif\u001b[39;00m \u001b[39misinstance\u001b[39m(condition, \u001b[39mstr\u001b[39m):\n\u001b[0;32m-> 2077\u001b[0m     jdf \u001b[39m=\u001b[39m \u001b[39mself\u001b[39;49m\u001b[39m.\u001b[39;49m_jdf\u001b[39m.\u001b[39;49mfilter(condition)\n\u001b[1;32m   2078\u001b[0m \u001b[39melif\u001b[39;00m \u001b[39misinstance\u001b[39m(condition, Column):\n\u001b[1;32m   2079\u001b[0m     jdf \u001b[39m=\u001b[39m \u001b[39mself\u001b[39m\u001b[39m.\u001b[39m_jdf\u001b[39m.\u001b[39mfilter(condition\u001b[39m.\u001b[39m_jc)\n",
      "File \u001b[0;32m/opt/homebrew/Caskroom/miniforge/base/lib/python3.10/site-packages/py4j/java_gateway.py:1321\u001b[0m, in \u001b[0;36mJavaMember.__call__\u001b[0;34m(self, *args)\u001b[0m\n\u001b[1;32m   1315\u001b[0m command \u001b[39m=\u001b[39m proto\u001b[39m.\u001b[39mCALL_COMMAND_NAME \u001b[39m+\u001b[39m\\\n\u001b[1;32m   1316\u001b[0m     \u001b[39mself\u001b[39m\u001b[39m.\u001b[39mcommand_header \u001b[39m+\u001b[39m\\\n\u001b[1;32m   1317\u001b[0m     args_command \u001b[39m+\u001b[39m\\\n\u001b[1;32m   1318\u001b[0m     proto\u001b[39m.\u001b[39mEND_COMMAND_PART\n\u001b[1;32m   1320\u001b[0m answer \u001b[39m=\u001b[39m \u001b[39mself\u001b[39m\u001b[39m.\u001b[39mgateway_client\u001b[39m.\u001b[39msend_command(command)\n\u001b[0;32m-> 1321\u001b[0m return_value \u001b[39m=\u001b[39m get_return_value(\n\u001b[1;32m   1322\u001b[0m     answer, \u001b[39mself\u001b[39;49m\u001b[39m.\u001b[39;49mgateway_client, \u001b[39mself\u001b[39;49m\u001b[39m.\u001b[39;49mtarget_id, \u001b[39mself\u001b[39;49m\u001b[39m.\u001b[39;49mname)\n\u001b[1;32m   1324\u001b[0m \u001b[39mfor\u001b[39;00m temp_arg \u001b[39min\u001b[39;00m temp_args:\n\u001b[1;32m   1325\u001b[0m     temp_arg\u001b[39m.\u001b[39m_detach()\n",
      "File \u001b[0;32m/opt/homebrew/Caskroom/miniforge/base/lib/python3.10/site-packages/pyspark/sql/utils.py:196\u001b[0m, in \u001b[0;36mcapture_sql_exception.<locals>.deco\u001b[0;34m(*a, **kw)\u001b[0m\n\u001b[1;32m    192\u001b[0m converted \u001b[39m=\u001b[39m convert_exception(e\u001b[39m.\u001b[39mjava_exception)\n\u001b[1;32m    193\u001b[0m \u001b[39mif\u001b[39;00m \u001b[39mnot\u001b[39;00m \u001b[39misinstance\u001b[39m(converted, UnknownException):\n\u001b[1;32m    194\u001b[0m     \u001b[39m# Hide where the exception came from that shows a non-Pythonic\u001b[39;00m\n\u001b[1;32m    195\u001b[0m     \u001b[39m# JVM exception message.\u001b[39;00m\n\u001b[0;32m--> 196\u001b[0m     \u001b[39mraise\u001b[39;00m converted \u001b[39mfrom\u001b[39;00m \u001b[39mNone\u001b[39m\n\u001b[1;32m    197\u001b[0m \u001b[39melse\u001b[39;00m:\n\u001b[1;32m    198\u001b[0m     \u001b[39mraise\u001b[39;00m\n",
      "\u001b[0;31mAnalysisException\u001b[0m: Column 'btcusdt' does not exist. Did you mean one of the following? [close, high, interval, low, open, symbol, start_time, close_time, num_trades, base_volume, quote_volume, taker_buy_base_volume, taker_buy_quote_volume]; line 1 pos 9;\n'Filter (symbol#1091 = 'btcusdt)\n+- Project [start_time#1128, to_timestamp((cast(close_time#1090L as double) / cast(1000 as double)), None, TimestampType, Some(America/Chicago)) AS close_time#1142, symbol#1091, interval#1092, open#1093, close#1094, high#1095, low#1096, base_volume#1097, num_trades#1098, quote_volume#1099, taker_buy_base_volume#1100, taker_buy_quote_volume#1101]\n   +- Project [to_timestamp((cast(start_time#1089L as double) / cast(1000 as double)), None, TimestampType, Some(America/Chicago)) AS start_time#1128, close_time#1090L, symbol#1091, interval#1092, open#1093, close#1094, high#1095, low#1096, base_volume#1097, num_trades#1098, quote_volume#1099, taker_buy_base_volume#1100, taker_buy_quote_volume#1101]\n      +- Filter atleastnnonnulls(8, symbol#1091, start_time#1089L, close_time#1090L, open#1093, close#1094, high#1095, low#1096, base_volume#1097)\n         +- Project [t#1041L AS start_time#1089L, T#1042L AS close_time#1090L, s#1043 AS symbol#1091, i#1044 AS interval#1092, o#1047 AS open#1093, c#1048 AS close#1094, h#1049 AS high#1095, l#1050 AS low#1096, v#1051 AS base_volume#1097, n#1052 AS num_trades#1098, q#1054 AS quote_volume#1099, V#1055 AS taker_buy_base_volume#1100, Q#1056 AS taker_buy_quote_volume#1101]\n            +- Project [t#1041L, T#1042L, s#1043, i#1044, o#1047, c#1048, h#1049, l#1050, v#1051, n#1052, q#1054, V#1055, Q#1056]\n               +- Relation [t#1041L,T#1042L,s#1043,i#1044,f#1045L,L#1046L,o#1047,c#1048,h#1049,l#1050,v#1051,n#1052,x#1053,q#1054,V#1055,Q#1056,B#1057] csv\n"
     ]
    }
   ],
   "source": [
    "for value in dist_symbols:\n",
    "    #note that the data table name is same as symbol name\n",
    "    # TODO: if time add a query so that if new symbol comes and its corresponding datatable does not exist, create new table with a predefined schema\n",
    "    #NOTE: always  \" \" inside filter at start function no ''\n",
    "    #NOTE: for postgres take db in lowercase, we need to add  quotes (\" \") always if taken to uppercase\n",
    "    df.filter(f\"symbol = '{value}' \").toPandas().to_sql(value.lower(), engine, index=False, if_exists= 'append')"
   ]
  },
  {
   "cell_type": "code",
   "execution_count": null,
   "metadata": {},
   "outputs": [
    {
     "name": "stderr",
     "output_type": "stream",
     "text": [
      "/opt/homebrew/Caskroom/miniforge/base/lib/python3.10/site-packages/pyspark/sql/pandas/conversion.py:248: FutureWarning: Passing unit-less datetime64 dtype to .astype is deprecated and will raise in a future version. Pass 'datetime64[ns]' instead\n",
      "  series = series.astype(t, copy=False)\n",
      "/opt/homebrew/Caskroom/miniforge/base/lib/python3.10/site-packages/pyspark/sql/pandas/conversion.py:248: FutureWarning: Passing unit-less datetime64 dtype to .astype is deprecated and will raise in a future version. Pass 'datetime64[ns]' instead\n",
      "  series = series.astype(t, copy=False)\n"
     ]
    },
    {
     "data": {
      "text/plain": [
       "30"
      ]
     },
     "metadata": {},
     "output_type": "display_data"
    }
   ],
   "source": [
    "# temp = df.filter(\"symbol = 'ETHUSDT' \").toPandas().to_sql(\"ETHUSDT\", engine, index=False, if_exists= 'append')\n",
    "# display(temp)\n",
    "#.to_sql('ethusdt', engine, index=False, if_exists= 'append')"
   ]
  },
  {
   "cell_type": "code",
   "execution_count": null,
   "metadata": {},
   "outputs": [],
   "source": [
    "#TODO: IMPLEMENT AT LAST\n",
    "#code to delete all the csv files in the folder after all the operation is complete\n",
    "\n",
    "# for path in Path(file_path).glob('*'):\n",
    "#     if path.is_file():\n",
    "#         path.unlink()"
   ]
  },
  {
   "cell_type": "markdown",
   "metadata": {},
   "source": [
    "    \"t\": 123400000, // Kline start time\n",
    "    \"T\": 123460000, // Kline close time\n",
    "    \"s\": \"BNBBTC\",  // Symbol\n",
    "    \"i\": \"1m\",      // Interval\n",
    "    \"o\": \"0.0010\",  // Open price\n",
    "    \"c\": \"0.0020\",  // Close price\n",
    "    \"h\": \"0.0025\",  // High price\n",
    "    \"l\": \"0.0015\",  // Low price\n",
    "    \"v\": \"1000\",    //     \"t\": 123400000, // Kline start time\n",
    "    \"T\": 123460000, // Kline close time\n",
    "    \"s\": \"BNBBTC\",  // Symbol\n",
    "    \"i\": \"1m\",      // Interval\n",
    "    \"o\": \"0.0010\",  // Open price\n",
    "    \"c\": \"0.0020\",  // Close price\n",
    "    \"h\": \"0.0025\",  // High price\n",
    "    \"l\": \"0.0015\",  // Low price\n",
    "    \"v\": \"1000\",    // Base asset volume : the volume of the crypto you are buying\n",
    "    \"n\": 100,       // Number of trades\n",
    "    \"q\": \"1.0000\",  // Quote asset volume : the volume of the crypto you are selling\n",
    "    \"V\": \"500\",     // Taker buy base asset volume : explained below // The way i understand it its the volume where the buyer was the taker\n",
    "    \"Q\": \"0.500\",   // Taker buy quote asset volume\n",
    "\n",
    "Best explanation: \n",
    "\n",
    "- BNBBTC indicates BNB bought by using BTC\n",
    "like HDLRUPEE\n",
    "\n",
    "- BTC/USDT 8,243.35 (at the time of writing 10/2/19, 11:10 UTC, source HitBTC), means the base currency 1 BTC is traded against the quote currency USDT and exchanged for 8,243.35 USDT.\n",
    "\n",
    "- In a given market FOO/BAR, baseVolume indicates the total amount of FOO that has been bought and sold in this market in the past 24hrs, while quoteVolume is the total amount of BAR that has been bought and sold in this market in the past 24hrs. \n",
    "One more note: when you buy FOO on the FOO/BAR market, you are buying it for BAR, right? So, when you buy FOO for BAR, that means, you are actually selling BAR for FOO.\n",
    "\n",
    "- Buyer as a taker/Maker explained: For a trade to happen, there must be a buyer and a seller. The buyer could have placed an offer to buy, which the seller took. Or the seller could have placed an offer to sell, which the buyer took. These are the only two possibilities.\n",
    "If the buyer placed the offer which the seller later took, the buyer is the maker (he made liquidity available) and the seller is the taker (they took the buyer's offer). If the seller placed the offer which the buyer later took, the seller is the maker (he made liquidity available) and the buyer is the taker (they took the seller's offer).\n",
    "\n",
    "This matters for at least two reasons:\n",
    "\n",
    "1) Typically the maker pays a lower fee than the taker.\n",
    "\n",
    "2) This makes a difference in understanding what the price is telling you. For example, imagine if there's a market with people willing to sell apples for $1 and willing to buy apples for $0.90 -- if the price never changes, you will see transactions for $1 and transactions for $0.90, which might make you think the price is changing. But all the $1 trades will have the \"buyer is not maker\" flag and all the $0.90 trades will have the \"buyer is maker\" flag, allowing you to understand that the change in trade prices doesn't reflect any actual change in the market.\n",
    "\n",
    "- TAKER BUY Base asset volume:\n",
    "    Taker buy base asset volume represents how many of the total base asset volume are contributed by the taker buy orders. Once    taker_buy_base_asset_volume and the total volume (Volume) is known, the value of the following cases ( taker_sell_volume, maker_buy_volume,    maker_sell_volume ) are clear. \n",
    "\n",
    "    Every trade has a buyer and a seller. A buyer can be a maker or a taker. But when a buyer is a maker, the seller must be a taker, and vice versa. That is,\n",
    "\n",
    "    taker_buy_base_asset_volume = maker_sell_base_asset_volume\n",
    "\n",
    "    taker_sell_base_asset_volume = maker_buy_base_asset_volume\n",
    "\n",
    "    total_volume = taker_buy_base_asset_volume + taker_sell_base_asset_volume\n",
    "    = maker_buy_base_asset_volume + maker_sell_base_asset_volume\n",
    "\n",
    "\n",
    "\n",
    "Quote asset volume is total volume in units of the quote currency. \n",
    "Taker asset volume is the volume of market orders in units of the base and quote currency.\n",
    "    \"n\": 100,       // Number of trades\n",
    "    \"q\": \"1.0000\",  // Quote asset volume\n",
    "    \"V\": \"500\",     // Taker buy base asset volume\n",
    "    \"Q\": \"0.500\",   // Taker buy quote asset volume\n",
    "\n",
    "Quote asset volume is total volume in units of the quote currency. \n",
    "Taker asset volume is the volume of market orders in units of the base and quote currency.\n",
    "\n"
   ]
  }
 ],
 "metadata": {
  "kernelspec": {
   "display_name": "Python 3.10.6 ('base')",
   "language": "python",
   "name": "python3"
  },
  "language_info": {
   "codemirror_mode": {
    "name": "ipython",
    "version": 3
   },
   "file_extension": ".py",
   "mimetype": "text/x-python",
   "name": "python",
   "nbconvert_exporter": "python",
   "pygments_lexer": "ipython3",
   "version": "3.10.6"
  },
  "orig_nbformat": 4,
  "vscode": {
   "interpreter": {
    "hash": "c6e4e9f98eb68ad3b7c296f83d20e6de614cb42e90992a65aa266555a3137d0d"
   }
  }
 },
 "nbformat": 4,
 "nbformat_minor": 2
}
