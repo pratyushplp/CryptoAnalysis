{
 "cells": [
  {
   "cell_type": "code",
   "execution_count": 68,
   "metadata": {},
   "outputs": [
    {
     "name": "stdout",
     "output_type": "stream",
     "text": [
      "created\n",
      "integer_encoded is [2 1 0 ... 0 2 0]\n",
      "[[0. 0. 1.]\n",
      " [0. 1. 0.]\n",
      " [1. 0. 0.]\n",
      " ...\n",
      " [1. 0. 0.]\n",
      " [0. 0. 1.]\n",
      " [1. 0. 0.]]\n",
      "Training data shape: (1121, 105)\n",
      "Validation data shape: (281, 105)\n",
      "Test data shape: (602, 105)\n",
      "Training data shape: (1121, 3)\n",
      "Validation data shape: (281, 3)\n",
      "Test data shape: (602, 3)\n"
     ]
    }
   ],
   "source": [
    "import pandas as pd\n",
    "import numpy as np\n",
    "import pandas_ta as ta\n",
    "import DataProcessing\n",
    "from sklearn.model_selection import train_test_split\n",
    "from keras.utils import to_categorical\n",
    "from sklearn.preprocessing import LabelEncoder\n",
    "from keras.models import Sequential\n",
    "from keras.layers import LSTM, Dense,Input, Dropout,Attention, Activation, Flatten, TimeDistributed, RepeatVector, Permute, Multiply, Lambda,Bidirectional\n",
    "from keras import backend as K\n",
    "\n",
    "dataProcess = DataProcessing.ETL()\n",
    "df = dataProcess.Load_Clean_Data('./historical_data/Binance_ETHUSDT_d.csv','1d')\n",
    "\n",
    "cols= ['ti_stoch_kd','ti_MACD']\n",
    "cols_to_normalize = ['open','high', 'low', 'close', 'base_volume'] # removed num_trades\n",
    "df = dataProcess.Add_TI_Data(df, cols=cols)\n",
    "df= dataProcess.Add_Label(df,cols_to_normalize=cols_to_normalize)\n",
    "#important: reverse the order and Reset the index to start from 0\n",
    "df= df[::-1]\n",
    "df.reset_index(drop=True, inplace=True)\n",
    "\n",
    "\n",
    "#removed time ('unix_start_datetime')\n",
    "x_cols = cols_to_normalize+cols\n",
    "labels = ['result_A','result_B']\n",
    "tensor_temp= df[x_cols+labels]\n",
    "sequence_num=14 # also called timesteps\n",
    "tensor = dataProcess.create_tensor_with_sequence(tensor_temp,labels,sequence_num)\n",
    "#note we have 2 labels, one for daily(B) another for shortterm (A) => shorterm>daily\n",
    "#y1= df['result_A']\n",
    "X= tensor.loc[:,~tensor.columns.isin(labels)]\n",
    "\n",
    "\n",
    "y2= tensor['result_B']\n",
    "y = y2.replace({'up': 0, 'down': 1, 'flat':2})\n",
    "label_encoder = LabelEncoder()\n",
    "integer_encoded = label_encoder.fit_transform(y)\n",
    "print(f'integer_encoded is {integer_encoded}')\n",
    "y = to_categorical(y, num_classes=3)\n",
    "print(y)\n",
    "# split data into training and test sets\n",
    "X_train, X_test, y_train, y_test = train_test_split(X, y, test_size=0.3, shuffle=False)\n",
    "# further split training data into training and validation sets\n",
    "X_train, X_val, y_train, y_val = train_test_split(X_train, y_train, test_size=0.2, shuffle=False)\n",
    "\n",
    "# print the shape of each set\n",
    "print(\"Training data shape:\", X_train.shape)\n",
    "print(\"Validation data shape:\", X_val.shape)\n",
    "print(\"Test data shape:\", X_test.shape)\n",
    "print(\"Training data shape:\", y_train.shape)\n",
    "print(\"Validation data shape:\", y_val.shape)\n",
    "print(\"Test data shape:\", y_test.shape)"
   ]
  },
  {
   "cell_type": "code",
   "execution_count": null,
   "metadata": {},
   "outputs": [
    {
     "data": {
      "text/plain": [
       "array([0, 1, 2, 0, 0, 1, 1, 1, 2, 1, 0, 0, 1, 1, 0, 1, 0, 1, 0, 1, 0, 1,\n",
       "       0, 2, 2, 1, 1, 0, 0, 0, 1, 2, 0, 1, 2, 2, 2, 2, 2, 1, 0, 0, 1, 2,\n",
       "       2, 2, 1, 2, 1, 2, 1, 2, 1, 1, 1, 1, 1, 1, 1, 2, 1, 0, 0, 1, 1, 0,\n",
       "       2, 2, 0, 1, 0, 2, 0, 1, 0, 1, 1, 2, 1, 2, 0, 0, 1, 0, 0, 0, 1, 0,\n",
       "       0, 1, 1, 0, 1, 2, 0, 1, 0, 0, 2])"
      ]
     },
     "execution_count": 81,
     "metadata": {},
     "output_type": "execute_result"
    },
    {
     "ename": "",
     "evalue": "",
     "output_type": "error",
     "traceback": [
      "\u001b[1;31mnotebook controller is DISPOSED. \n",
      "\u001b[1;31mView Jupyter <a href='command:jupyter.viewOutput'>log</a> for further details."
     ]
    },
    {
     "ename": "",
     "evalue": "",
     "output_type": "error",
     "traceback": [
      "\u001b[1;31mnotebook controller is DISPOSED. \n",
      "\u001b[1;31mView Jupyter <a href='command:jupyter.viewOutput'>log</a> for further details."
     ]
    }
   ],
   "source": [
    "integer_encoded[-100:-1]"
   ]
  },
  {
   "cell_type": "code",
   "execution_count": null,
   "metadata": {},
   "outputs": [
    {
     "ename": "AttributeError",
     "evalue": "'numpy.ndarray' object has no attribute 'to_numpy'",
     "output_type": "error",
     "traceback": [
      "\u001b[0;31m---------------------------------------------------------------------------\u001b[0m",
      "\u001b[0;31mAttributeError\u001b[0m                            Traceback (most recent call last)",
      "Cell \u001b[0;32mIn[119], line 2\u001b[0m\n\u001b[1;32m      1\u001b[0m \u001b[39m# Important: reshape it into a 3D tensor with dimensions (number of samples, sequence length, number of features) to process with LSTM\u001b[39;00m\n\u001b[0;32m----> 2\u001b[0m X_train \u001b[39m=\u001b[39m X_train\u001b[39m.\u001b[39;49mto_numpy()\u001b[39m.\u001b[39mreshape(X_train\u001b[39m.\u001b[39mshape[\u001b[39m0\u001b[39m],sequence_num\u001b[39m+\u001b[39m\u001b[39m1\u001b[39m,\u001b[39mlen\u001b[39m(x_cols))\n\u001b[1;32m      3\u001b[0m X_test \u001b[39m=\u001b[39m X_test\u001b[39m.\u001b[39mto_numpy()\u001b[39m.\u001b[39mreshape(X_test\u001b[39m.\u001b[39mshape[\u001b[39m0\u001b[39m],sequence_num\u001b[39m+\u001b[39m\u001b[39m1\u001b[39m,\u001b[39mlen\u001b[39m(x_cols))\n\u001b[1;32m      4\u001b[0m X_val \u001b[39m=\u001b[39m X_val\u001b[39m.\u001b[39mto_numpy()\u001b[39m.\u001b[39mreshape(X_val\u001b[39m.\u001b[39mshape[\u001b[39m0\u001b[39m],sequence_num\u001b[39m+\u001b[39m\u001b[39m1\u001b[39m,\u001b[39mlen\u001b[39m(x_cols))\n",
      "\u001b[0;31mAttributeError\u001b[0m: 'numpy.ndarray' object has no attribute 'to_numpy'"
     ]
    },
    {
     "ename": "",
     "evalue": "",
     "output_type": "error",
     "traceback": [
      "\u001b[1;31mnotebook controller is DISPOSED. \n",
      "\u001b[1;31mView Jupyter <a href='command:jupyter.viewOutput'>log</a> for further details."
     ]
    },
    {
     "ename": "",
     "evalue": "",
     "output_type": "error",
     "traceback": [
      "\u001b[1;31mnotebook controller is DISPOSED. \n",
      "\u001b[1;31mView Jupyter <a href='command:jupyter.viewOutput'>log</a> for further details."
     ]
    }
   ],
   "source": [
    "# Important: reshape it into a 3D tensor with dimensions (number of samples, sequence length, number of features) to process with LSTM\n",
    "X_train = X_train.to_numpy().reshape(X_train.shape[0],sequence_num+1,len(x_cols))\n",
    "X_test = X_test.to_numpy().reshape(X_test.shape[0],sequence_num+1,len(x_cols))\n",
    "X_val = X_val.to_numpy().reshape(X_val.shape[0],sequence_num+1,len(x_cols))\n",
    "\n",
    "print(\"Training data shape:\", X_train.shape)\n",
    "print(\"Validation data shape:\", X_val.shape)\n",
    "print(\"Test data shape:\", X_test.shape)"
   ]
  },
  {
   "cell_type": "code",
   "execution_count": null,
   "metadata": {},
   "outputs": [
    {
     "name": "stdout",
     "output_type": "stream",
     "text": [
      "Epoch 1/30\n"
     ]
    },
    {
     "name": "stderr",
     "output_type": "stream",
     "text": [
      "/opt/homebrew/Caskroom/miniforge/base/envs/ML/lib/python3.8/site-packages/keras/initializers/initializers_v2.py:120: UserWarning: The initializer GlorotNormal is unseeded and being called multiple times, which will return identical values  each time (even if the initializer is unseeded). Please update your code to provide a seed to the initializer, or avoid using the same initalizer instance more than once.\n",
      "  warnings.warn(\n"
     ]
    },
    {
     "name": "stdout",
     "output_type": "stream",
     "text": [
      "36/36 [==============================] - 8s 60ms/step - loss: 0.9736 - accuracy: 0.4996 - precision_9: 0.5080 - recall_9: 0.2275 - tp: 255.0000 - fp: 247.0000 - tn: 1995.0000 - fn: 866.0000 - val_loss: 0.9181 - val_accuracy: 0.5231 - val_precision_9: 0.5529 - val_recall_9: 0.4093 - val_tp: 115.0000 - val_fp: 93.0000 - val_tn: 469.0000 - val_fn: 166.0000\n",
      "Epoch 2/30\n",
      "36/36 [==============================] - 1s 28ms/step - loss: 0.9135 - accuracy: 0.5379 - precision_9: 0.5559 - recall_9: 0.3417 - tp: 383.0000 - fp: 306.0000 - tn: 1936.0000 - fn: 738.0000 - val_loss: 0.9435 - val_accuracy: 0.5231 - val_precision_9: 0.5228 - val_recall_9: 0.4484 - val_tp: 126.0000 - val_fp: 115.0000 - val_tn: 447.0000 - val_fn: 155.0000\n",
      "Epoch 3/30\n",
      "36/36 [==============================] - 1s 26ms/step - loss: 0.9043 - accuracy: 0.5442 - precision_9: 0.5618 - recall_9: 0.4095 - tp: 459.0000 - fp: 358.0000 - tn: 1884.0000 - fn: 662.0000 - val_loss: 0.9052 - val_accuracy: 0.5552 - val_precision_9: 0.5923 - val_recall_9: 0.4911 - val_tp: 138.0000 - val_fp: 95.0000 - val_tn: 467.0000 - val_fn: 143.0000\n",
      "Epoch 4/30\n",
      "36/36 [==============================] - 1s 26ms/step - loss: 0.9105 - accuracy: 0.5343 - precision_9: 0.5485 - recall_9: 0.3631 - tp: 407.0000 - fp: 335.0000 - tn: 1907.0000 - fn: 714.0000 - val_loss: 0.9076 - val_accuracy: 0.5587 - val_precision_9: 0.5728 - val_recall_9: 0.4199 - val_tp: 118.0000 - val_fp: 88.0000 - val_tn: 474.0000 - val_fn: 163.0000\n",
      "Epoch 5/30\n",
      "36/36 [==============================] - 1s 26ms/step - loss: 0.9115 - accuracy: 0.5361 - precision_9: 0.5445 - recall_9: 0.3167 - tp: 355.0000 - fp: 297.0000 - tn: 1945.0000 - fn: 766.0000 - val_loss: 0.9515 - val_accuracy: 0.4733 - val_precision_9: 0.4766 - val_recall_9: 0.3986 - val_tp: 112.0000 - val_fp: 123.0000 - val_tn: 439.0000 - val_fn: 169.0000\n",
      "Epoch 6/30\n",
      "36/36 [==============================] - 1s 27ms/step - loss: 0.9155 - accuracy: 0.5165 - precision_9: 0.5348 - recall_9: 0.3702 - tp: 415.0000 - fp: 361.0000 - tn: 1881.0000 - fn: 706.0000 - val_loss: 0.9324 - val_accuracy: 0.5089 - val_precision_9: 0.5325 - val_recall_9: 0.4377 - val_tp: 123.0000 - val_fp: 108.0000 - val_tn: 454.0000 - val_fn: 158.0000\n",
      "Epoch 7/30\n",
      "36/36 [==============================] - 1s 26ms/step - loss: 0.8990 - accuracy: 0.5424 - precision_9: 0.5576 - recall_9: 0.3800 - tp: 426.0000 - fp: 338.0000 - tn: 1904.0000 - fn: 695.0000 - val_loss: 0.9088 - val_accuracy: 0.5587 - val_precision_9: 0.5900 - val_recall_9: 0.4199 - val_tp: 118.0000 - val_fp: 82.0000 - val_tn: 480.0000 - val_fn: 163.0000\n",
      "Epoch 8/30\n",
      "36/36 [==============================] - 1s 27ms/step - loss: 0.9039 - accuracy: 0.5495 - precision_9: 0.5648 - recall_9: 0.3889 - tp: 436.0000 - fp: 336.0000 - tn: 1906.0000 - fn: 685.0000 - val_loss: 0.9344 - val_accuracy: 0.4769 - val_precision_9: 0.4850 - val_recall_9: 0.3452 - val_tp: 97.0000 - val_fp: 103.0000 - val_tn: 459.0000 - val_fn: 184.0000\n",
      "Epoch 9/30\n",
      "36/36 [==============================] - 1s 27ms/step - loss: 0.9061 - accuracy: 0.5352 - precision_9: 0.5547 - recall_9: 0.3979 - tp: 446.0000 - fp: 358.0000 - tn: 1884.0000 - fn: 675.0000 - val_loss: 0.9080 - val_accuracy: 0.5623 - val_precision_9: 0.6047 - val_recall_9: 0.3701 - val_tp: 104.0000 - val_fp: 68.0000 - val_tn: 494.0000 - val_fn: 177.0000\n",
      "Epoch 10/30\n",
      "36/36 [==============================] - 1s 27ms/step - loss: 0.9106 - accuracy: 0.4969 - precision_9: 0.5338 - recall_9: 0.2676 - tp: 300.0000 - fp: 262.0000 - tn: 1980.0000 - fn: 821.0000 - val_loss: 0.9086 - val_accuracy: 0.5445 - val_precision_9: 0.5854 - val_recall_9: 0.3416 - val_tp: 96.0000 - val_fp: 68.0000 - val_tn: 494.0000 - val_fn: 185.0000\n",
      "Epoch 11/30\n",
      "36/36 [==============================] - 1s 27ms/step - loss: 0.9066 - accuracy: 0.5343 - precision_9: 0.5628 - recall_9: 0.3158 - tp: 354.0000 - fp: 275.0000 - tn: 1967.0000 - fn: 767.0000 - val_loss: 0.9345 - val_accuracy: 0.4875 - val_precision_9: 0.5000 - val_recall_9: 0.3737 - val_tp: 105.0000 - val_fp: 105.0000 - val_tn: 457.0000 - val_fn: 176.0000\n",
      "Epoch 12/30\n",
      "36/36 [==============================] - 1s 27ms/step - loss: 0.9034 - accuracy: 0.5486 - precision_9: 0.5671 - recall_9: 0.3845 - tp: 431.0000 - fp: 329.0000 - tn: 1913.0000 - fn: 690.0000 - val_loss: 0.9450 - val_accuracy: 0.4875 - val_precision_9: 0.5000 - val_recall_9: 0.4057 - val_tp: 114.0000 - val_fp: 114.0000 - val_tn: 448.0000 - val_fn: 167.0000\n",
      "Epoch 13/30\n",
      "36/36 [==============================] - 1s 27ms/step - loss: 0.9066 - accuracy: 0.5370 - precision_9: 0.5413 - recall_9: 0.3158 - tp: 354.0000 - fp: 300.0000 - tn: 1942.0000 - fn: 767.0000 - val_loss: 0.9080 - val_accuracy: 0.5374 - val_precision_9: 0.5740 - val_recall_9: 0.3452 - val_tp: 97.0000 - val_fp: 72.0000 - val_tn: 490.0000 - val_fn: 184.0000\n",
      "Epoch 14/30\n",
      "36/36 [==============================] - 1s 27ms/step - loss: 0.9040 - accuracy: 0.5236 - precision_9: 0.5596 - recall_9: 0.3729 - tp: 418.0000 - fp: 329.0000 - tn: 1913.0000 - fn: 703.0000 - val_loss: 0.9025 - val_accuracy: 0.5480 - val_precision_9: 0.5873 - val_recall_9: 0.3950 - val_tp: 111.0000 - val_fp: 78.0000 - val_tn: 484.0000 - val_fn: 170.0000\n",
      "Epoch 15/30\n",
      "36/36 [==============================] - 1s 27ms/step - loss: 0.8965 - accuracy: 0.5540 - precision_9: 0.5704 - recall_9: 0.4193 - tp: 470.0000 - fp: 354.0000 - tn: 1888.0000 - fn: 651.0000 - val_loss: 0.8927 - val_accuracy: 0.5480 - val_precision_9: 0.5869 - val_recall_9: 0.4448 - val_tp: 125.0000 - val_fp: 88.0000 - val_tn: 474.0000 - val_fn: 156.0000\n",
      "Epoch 16/30\n",
      "36/36 [==============================] - 1s 27ms/step - loss: 0.8993 - accuracy: 0.5370 - precision_9: 0.5620 - recall_9: 0.3434 - tp: 385.0000 - fp: 300.0000 - tn: 1942.0000 - fn: 736.0000 - val_loss: 0.9026 - val_accuracy: 0.5658 - val_precision_9: 0.5887 - val_recall_9: 0.5196 - val_tp: 146.0000 - val_fp: 102.0000 - val_tn: 460.0000 - val_fn: 135.0000\n",
      "Epoch 17/30\n",
      "36/36 [==============================] - 1s 29ms/step - loss: 0.8926 - accuracy: 0.5415 - precision_9: 0.5656 - recall_9: 0.4309 - tp: 483.0000 - fp: 371.0000 - tn: 1871.0000 - fn: 638.0000 - val_loss: 0.9218 - val_accuracy: 0.5231 - val_precision_9: 0.5532 - val_recall_9: 0.4626 - val_tp: 130.0000 - val_fp: 105.0000 - val_tn: 457.0000 - val_fn: 151.0000\n",
      "Epoch 18/30\n",
      "36/36 [==============================] - 1s 27ms/step - loss: 0.8991 - accuracy: 0.5513 - precision_9: 0.5602 - recall_9: 0.3988 - tp: 447.0000 - fp: 351.0000 - tn: 1891.0000 - fn: 674.0000 - val_loss: 0.9027 - val_accuracy: 0.5730 - val_precision_9: 0.5936 - val_recall_9: 0.4626 - val_tp: 130.0000 - val_fp: 89.0000 - val_tn: 473.0000 - val_fn: 151.0000\n",
      "Epoch 19/30\n",
      "36/36 [==============================] - 1s 26ms/step - loss: 0.9035 - accuracy: 0.5379 - precision_9: 0.5754 - recall_9: 0.3131 - tp: 351.0000 - fp: 259.0000 - tn: 1983.0000 - fn: 770.0000 - val_loss: 0.9045 - val_accuracy: 0.5516 - val_precision_9: 0.5815 - val_recall_9: 0.4698 - val_tp: 132.0000 - val_fp: 95.0000 - val_tn: 467.0000 - val_fn: 149.0000\n",
      "Epoch 20/30\n",
      "36/36 [==============================] - 1s 28ms/step - loss: 0.8973 - accuracy: 0.5352 - precision_9: 0.5562 - recall_9: 0.3533 - tp: 396.0000 - fp: 316.0000 - tn: 1926.0000 - fn: 725.0000 - val_loss: 0.8909 - val_accuracy: 0.5801 - val_precision_9: 0.6091 - val_recall_9: 0.4769 - val_tp: 134.0000 - val_fp: 86.0000 - val_tn: 476.0000 - val_fn: 147.0000\n",
      "Epoch 21/30\n",
      "36/36 [==============================] - 1s 28ms/step - loss: 0.8826 - accuracy: 0.5442 - precision_9: 0.5816 - recall_9: 0.4514 - tp: 506.0000 - fp: 364.0000 - tn: 1878.0000 - fn: 615.0000 - val_loss: 0.8963 - val_accuracy: 0.5587 - val_precision_9: 0.5746 - val_recall_9: 0.4662 - val_tp: 131.0000 - val_fp: 97.0000 - val_tn: 465.0000 - val_fn: 150.0000\n",
      "Epoch 22/30\n",
      "36/36 [==============================] - 1s 26ms/step - loss: 0.8901 - accuracy: 0.5611 - precision_9: 0.5817 - recall_9: 0.4603 - tp: 516.0000 - fp: 371.0000 - tn: 1871.0000 - fn: 605.0000 - val_loss: 0.8975 - val_accuracy: 0.5730 - val_precision_9: 0.5924 - val_recall_9: 0.5018 - val_tp: 141.0000 - val_fp: 97.0000 - val_tn: 465.0000 - val_fn: 140.0000\n",
      "Epoch 23/30\n",
      "36/36 [==============================] - 1s 27ms/step - loss: 0.8831 - accuracy: 0.5691 - precision_9: 0.5946 - recall_9: 0.4710 - tp: 528.0000 - fp: 360.0000 - tn: 1882.0000 - fn: 593.0000 - val_loss: 0.8901 - val_accuracy: 0.5765 - val_precision_9: 0.5924 - val_recall_9: 0.5018 - val_tp: 141.0000 - val_fp: 97.0000 - val_tn: 465.0000 - val_fn: 140.0000\n",
      "Epoch 24/30\n",
      "36/36 [==============================] - 1s 28ms/step - loss: 0.8838 - accuracy: 0.5584 - precision_9: 0.5947 - recall_9: 0.4371 - tp: 490.0000 - fp: 334.0000 - tn: 1908.0000 - fn: 631.0000 - val_loss: 0.8791 - val_accuracy: 0.6014 - val_precision_9: 0.6121 - val_recall_9: 0.5053 - val_tp: 142.0000 - val_fp: 90.0000 - val_tn: 472.0000 - val_fn: 139.0000\n",
      "Epoch 25/30\n",
      "36/36 [==============================] - 1s 27ms/step - loss: 0.8789 - accuracy: 0.5781 - precision_9: 0.5890 - recall_9: 0.4603 - tp: 516.0000 - fp: 360.0000 - tn: 1882.0000 - fn: 605.0000 - val_loss: 0.8970 - val_accuracy: 0.5623 - val_precision_9: 0.5720 - val_recall_9: 0.5089 - val_tp: 143.0000 - val_fp: 107.0000 - val_tn: 455.0000 - val_fn: 138.0000\n",
      "Epoch 26/30\n",
      "36/36 [==============================] - 1s 27ms/step - loss: 0.8815 - accuracy: 0.5718 - precision_9: 0.6052 - recall_9: 0.4567 - tp: 512.0000 - fp: 334.0000 - tn: 1908.0000 - fn: 609.0000 - val_loss: 0.9198 - val_accuracy: 0.5552 - val_precision_9: 0.5670 - val_recall_9: 0.5267 - val_tp: 148.0000 - val_fp: 113.0000 - val_tn: 449.0000 - val_fn: 133.0000\n",
      "Epoch 27/30\n",
      "36/36 [==============================] - 1s 27ms/step - loss: 0.8786 - accuracy: 0.5825 - precision_9: 0.6046 - recall_9: 0.4924 - tp: 552.0000 - fp: 361.0000 - tn: 1881.0000 - fn: 569.0000 - val_loss: 0.8845 - val_accuracy: 0.5730 - val_precision_9: 0.6205 - val_recall_9: 0.4947 - val_tp: 139.0000 - val_fp: 85.0000 - val_tn: 477.0000 - val_fn: 142.0000\n",
      "Epoch 28/30\n",
      "36/36 [==============================] - 1s 27ms/step - loss: 0.8884 - accuracy: 0.5700 - precision_9: 0.6024 - recall_9: 0.4095 - tp: 459.0000 - fp: 303.0000 - tn: 1939.0000 - fn: 662.0000 - val_loss: 0.9028 - val_accuracy: 0.5765 - val_precision_9: 0.5798 - val_recall_9: 0.5302 - val_tp: 149.0000 - val_fp: 108.0000 - val_tn: 454.0000 - val_fn: 132.0000\n",
      "Epoch 29/30\n",
      "36/36 [==============================] - 1s 27ms/step - loss: 0.8730 - accuracy: 0.5825 - precision_9: 0.6004 - recall_9: 0.4773 - tp: 535.0000 - fp: 356.0000 - tn: 1886.0000 - fn: 586.0000 - val_loss: 0.9739 - val_accuracy: 0.5231 - val_precision_9: 0.5247 - val_recall_9: 0.4911 - val_tp: 138.0000 - val_fp: 125.0000 - val_tn: 437.0000 - val_fn: 143.0000\n",
      "Epoch 30/30\n",
      "36/36 [==============================] - 1s 29ms/step - loss: 0.8723 - accuracy: 0.5843 - precision_9: 0.5991 - recall_9: 0.4880 - tp: 547.0000 - fp: 366.0000 - tn: 1876.0000 - fn: 574.0000 - val_loss: 0.9059 - val_accuracy: 0.5801 - val_precision_9: 0.5880 - val_recall_9: 0.5231 - val_tp: 147.0000 - val_fp: 103.0000 - val_tn: 459.0000 - val_fn: 134.0000\n"
     ]
    },
    {
     "ename": "",
     "evalue": "",
     "output_type": "error",
     "traceback": [
      "\u001b[1;31mnotebook controller is DISPOSED. \n",
      "\u001b[1;31mView Jupyter <a href='command:jupyter.viewOutput'>log</a> for further details."
     ]
    },
    {
     "ename": "",
     "evalue": "",
     "output_type": "error",
     "traceback": [
      "\u001b[1;31mnotebook controller is DISPOSED. \n",
      "\u001b[1;31mView Jupyter <a href='command:jupyter.viewOutput'>log</a> for further details."
     ]
    }
   ],
   "source": [
    "from keras_self_attention import SeqSelfAttention\n",
    "from sklearn.metrics import accuracy_score, precision_score, recall_score, f1_score\n",
    "\n",
    "import tensorflow as tf\n",
    "model = Sequential([\n",
    "Bidirectional(LSTM(units=84, return_sequences=True, input_shape=(sequence_num+1,len(x_cols)))),\n",
    "Dropout(0.4),\n",
    "Bidirectional(LSTM(units=64, return_sequences=True)),\n",
    "Dropout(0.6),\n",
    "Bidirectional(\n",
    "    LSTM(\n",
    "    units=32,\n",
    "    return_sequences=True\n",
    "    )),\n",
    "# Dropout(0.7),\n",
    "Dropout(0.7),\n",
    "SeqSelfAttention(attention_activation='tanh'),\n",
    "Flatten(),\n",
    "Dense(3,activation='softmax')])\n",
    "\n",
    "\n",
    "model.compile(loss='categorical_crossentropy', optimizer='adam',\n",
    "              metrics=['accuracy',\n",
    "                       tf.keras.metrics.Precision(),\n",
    "                       tf.keras.metrics.Recall(),\n",
    "                       tf.keras.metrics.TruePositives(name='tp'),\n",
    "                       tf.keras.metrics.FalsePositives(name='fp'),\n",
    "                       tf.keras.metrics.TrueNegatives(name='tn'),\n",
    "                       tf.keras.metrics.FalseNegatives(name='fn'),\n",
    "                       ])\n",
    "#model.compile(loss='categorical_crossentropy', optimizer='adam', metrics=['accuracy'])\n",
    "history = model.fit(X_train, y_train, validation_data=(X_val, y_val), epochs= 30)\n"
   ]
  },
  {
   "cell_type": "code",
   "execution_count": null,
   "metadata": {},
   "outputs": [
    {
     "name": "stdout",
     "output_type": "stream",
     "text": [
      "[[0. 1. 0.]\n",
      " [0. 1. 0.]\n",
      " [0. 1. 0.]\n",
      " ...\n",
      " [0. 1. 0.]\n",
      " [1. 0. 0.]\n",
      " [0. 1. 0.]]\n"
     ]
    },
    {
     "ename": "",
     "evalue": "",
     "output_type": "error",
     "traceback": [
      "\u001b[1;31mnotebook controller is DISPOSED. \n",
      "\u001b[1;31mView Jupyter <a href='command:jupyter.viewOutput'>log</a> for further details."
     ]
    },
    {
     "ename": "",
     "evalue": "",
     "output_type": "error",
     "traceback": [
      "\u001b[1;31mnotebook controller is DISPOSED. \n",
      "\u001b[1;31mView Jupyter <a href='command:jupyter.viewOutput'>log</a> for further details."
     ]
    }
   ],
   "source": [
    "print(y_test)"
   ]
  },
  {
   "cell_type": "code",
   "execution_count": null,
   "metadata": {},
   "outputs": [
    {
     "name": "stdout",
     "output_type": "stream",
     "text": [
      "(array([0]),)\n"
     ]
    },
    {
     "ename": "",
     "evalue": "",
     "output_type": "error",
     "traceback": [
      "\u001b[1;31mnotebook controller is DISPOSED. \n",
      "\u001b[1;31mView Jupyter <a href='command:jupyter.viewOutput'>log</a> for further details."
     ]
    },
    {
     "ename": "",
     "evalue": "",
     "output_type": "error",
     "traceback": [
      "\u001b[1;31mnotebook controller is DISPOSED. \n",
      "\u001b[1;31mView Jupyter <a href='command:jupyter.viewOutput'>log</a> for further details."
     ]
    }
   ],
   "source": [
    "temp = np.where(np.argmax(y_test)==1)\n",
    "print(temp)"
   ]
  },
  {
   "cell_type": "code",
   "execution_count": null,
   "metadata": {},
   "outputs": [
    {
     "name": "stdout",
     "output_type": "stream",
     "text": [
      "19/19 [==============================] - 0s 9ms/step - loss: 0.9456 - accuracy: 0.5764 - precision_10: 0.5830 - recall_10: 0.4319 - tp: 260.0000 - fp: 186.0000 - tn: 1018.0000 - fn: 342.0000\n",
      "19/19 [==============================] - 1s 7ms/step\n",
      "Accuracy: 0.5764119625091553\n",
      "Precision: 0.5829596519470215\n",
      "Recall: 0.4318936765193939\n",
      "F1 Score: 0.4961832025960536\n",
      "True Positive: 260.0\n",
      "True Negative: 1018.0\n",
      "False Positive: 186.0\n",
      "False Negative: 342.0\n"
     ]
    },
    {
     "ename": "",
     "evalue": "",
     "output_type": "error",
     "traceback": [
      "\u001b[1;31mnotebook controller is DISPOSED. \n",
      "\u001b[1;31mView Jupyter <a href='command:jupyter.viewOutput'>log</a> for further details."
     ]
    },
    {
     "ename": "",
     "evalue": "",
     "output_type": "error",
     "traceback": [
      "\u001b[1;31mnotebook controller is DISPOSED. \n",
      "\u001b[1;31mView Jupyter <a href='command:jupyter.viewOutput'>log</a> for further details."
     ]
    }
   ],
   "source": [
    "\n",
    "\n",
    "# # Predict the test set labels\n",
    "y_pred = model.predict(X_test)"
   ]
  },
  {
   "cell_type": "code",
   "execution_count": null,
   "metadata": {},
   "outputs": [
    {
     "name": "stdout",
     "output_type": "stream",
     "text": [
      "(389, 3)\n",
      "13/13 [==============================] - 0s 6ms/step\n"
     ]
    },
    {
     "ename": "",
     "evalue": "",
     "output_type": "error",
     "traceback": [
      "\u001b[1;31mnotebook controller is DISPOSED. \n",
      "\u001b[1;31mView Jupyter <a href='command:jupyter.viewOutput'>log</a> for further details."
     ]
    },
    {
     "ename": "",
     "evalue": "",
     "output_type": "error",
     "traceback": [
      "\u001b[1;31mnotebook controller is DISPOSED. \n",
      "\u001b[1;31mView Jupyter <a href='command:jupyter.viewOutput'>log</a> for further details."
     ]
    }
   ],
   "source": [
    "print(y_val.shape)\n",
    "y_pred = model.predict(X_val)\n",
    "index_test = 2\n",
    "a=0\n",
    "b=1\n",
    "temp1=[]\n",
    "# for i in range(y_val.shape[0]):\n",
    "#     if(y_val[i][index_test] > y_val[i][a] and y_val[i][index_test] > y_val[i][b]):\n",
    "#         print(y_val[i])\n",
    "#         print(f'corr {y_pred[i]}')\n",
    "\n",
    "for i in range(y_pred.shape[0]):\n",
    "    if(y_pred[i][index_test] > y_pred[i][1] and y_pred[i][index_test] > y_pred[i][0]):\n",
    "        print('lol')\n",
    "        print(y_pred[i])"
   ]
  },
  {
   "cell_type": "code",
   "execution_count": null,
   "metadata": {},
   "outputs": [
    {
     "name": "stdout",
     "output_type": "stream",
     "text": [
      "[[0. 1. 0.]\n",
      " [0. 1. 0.]\n",
      " [0. 1. 0.]\n",
      " ...\n",
      " [1. 0. 0.]\n",
      " [1. 0. 0.]\n",
      " [1. 0. 0.]]\n"
     ]
    },
    {
     "ename": "",
     "evalue": "",
     "output_type": "error",
     "traceback": [
      "\u001b[1;31mnotebook controller is DISPOSED. \n",
      "\u001b[1;31mView Jupyter <a href='command:jupyter.viewOutput'>log</a> for further details."
     ]
    },
    {
     "ename": "",
     "evalue": "",
     "output_type": "error",
     "traceback": [
      "\u001b[1;31mnotebook controller is DISPOSED. \n",
      "\u001b[1;31mView Jupyter <a href='command:jupyter.viewOutput'>log</a> for further details."
     ]
    }
   ],
   "source": [
    "# create an empty binary array with the same shape as probs_2d\n",
    "binary_2d = np.zeros_like(y_pred)\n",
    "# loop through each row of probs_2d\n",
    "# loop through each row of probs_2d\n",
    "for i in range(y_pred.shape[0]):\n",
    "    # set values above 0.35 to 1, and below to 0\n",
    "    temp = []\n",
    "    isAdded = False\n",
    "    for val in y_pred[i]:\n",
    "        if val > 0.35:\n",
    "            if not isAdded:\n",
    "                temp.append(1)\n",
    "                isAdded = True\n",
    "            elif val >= max(temp):\n",
    "                temp = [0 for _ in range(len(temp))]\n",
    "                temp.append(1)\n",
    "            else:\n",
    "                temp.append(0)\n",
    "        else:\n",
    "            temp.append(0)\n",
    "            isAdded = False\n",
    "    binary_2d[i] = np.array(temp)\n",
    "print(binary_2d)\n"
   ]
  },
  {
   "cell_type": "code",
   "execution_count": null,
   "metadata": {},
   "outputs": [
    {
     "name": "stdout",
     "output_type": "stream",
     "text": [
      "(602, 3)\n",
      "(602, 3)\n",
      "              precision    recall  f1-score   support\n",
      "\n",
      "           0       0.49      0.86      0.62       264\n",
      "           1       0.66      0.33      0.44       270\n",
      "           2       0.00      0.00      0.00        68\n",
      "\n",
      "   micro avg       0.52      0.52      0.52       602\n",
      "   macro avg       0.38      0.40      0.35       602\n",
      "weighted avg       0.51      0.52      0.47       602\n",
      " samples avg       0.52      0.52      0.52       602\n",
      "\n"
     ]
    },
    {
     "name": "stderr",
     "output_type": "stream",
     "text": [
      "/opt/homebrew/Caskroom/miniforge/base/envs/ML/lib/python3.8/site-packages/sklearn/metrics/_classification.py:1344: UndefinedMetricWarning: Precision and F-score are ill-defined and being set to 0.0 in labels with no predicted samples. Use `zero_division` parameter to control this behavior.\n",
      "  _warn_prf(average, modifier, msg_start, len(result))\n"
     ]
    },
    {
     "ename": "",
     "evalue": "",
     "output_type": "error",
     "traceback": [
      "\u001b[1;31mnotebook controller is DISPOSED. \n",
      "\u001b[1;31mView Jupyter <a href='command:jupyter.viewOutput'>log</a> for further details."
     ]
    },
    {
     "ename": "",
     "evalue": "",
     "output_type": "error",
     "traceback": [
      "\u001b[1;31mnotebook controller is DISPOSED. \n",
      "\u001b[1;31mView Jupyter <a href='command:jupyter.viewOutput'>log</a> for further details."
     ]
    }
   ],
   "source": [
    "from sklearn.metrics import classification_report\n",
    "print(y_test.shape)\n",
    "print(binary_2d.shape)\n",
    "print(classification_report(y_test, binary_2d))\n"
   ]
  },
  {
   "cell_type": "code",
   "execution_count": null,
   "metadata": {},
   "outputs": [
    {
     "data": {
      "image/png": "[encoded data removed]",
      "text/plain": [
       "<Figure size 640x480 with 1 Axes>"
      ]
     },
     "metadata": {},
     "output_type": "display_data"
    },
    {
     "data": {
      "image/png": "[encoded data removed]",
      "text/plain": [
       "<Figure size 640x480 with 1 Axes>"
      ]
     },
     "metadata": {},
     "output_type": "display_data"
    },
    {
     "data": {
      "image/png": "[encoded data removed]",
      "text/plain": [
       "<Figure size 640x480 with 1 Axes>"
      ]
     },
     "metadata": {},
     "output_type": "display_data"
    },
    {
     "ename": "",
     "evalue": "",
     "output_type": "error",
     "traceback": [
      "\u001b[1;31mnotebook controller is DISPOSED. \n",
      "\u001b[1;31mView Jupyter <a href='command:jupyter.viewOutput'>log</a> for further details."
     ]
    },
    {
     "ename": "",
     "evalue": "",
     "output_type": "error",
     "traceback": [
      "\u001b[1;31mnotebook controller is DISPOSED. \n",
      "\u001b[1;31mView Jupyter <a href='command:jupyter.viewOutput'>log</a> for further details."
     ]
    },
    {
     "ename": "",
     "evalue": "",
     "output_type": "error",
     "traceback": [
      "\u001b[1;31mnotebook controller is DISPOSED. \n",
      "\u001b[1;31mView Jupyter <a href='command:jupyter.viewOutput'>log</a> for further details."
     ]
    }
   ],
   "source": [
    "import matplotlib.pyplot as plt\n",
    "\n",
    "# Plot training and validation accuracy\n",
    "plt.plot(history.history['accuracy'])\n",
    "plt.plot(history.history['val_accuracy'])\n",
    "plt.title('Model Accuracy')\n",
    "plt.ylabel('Accuracy')\n",
    "plt.xlabel('Epoch')\n",
    "plt.legend(['Train', 'Validation'], loc='upper left')\n",
    "plt.show()\n",
    "\n",
    "# Plot training and validation loss\n",
    "plt.plot(history.history['loss'])\n",
    "plt.plot(history.history['val_loss'])\n",
    "plt.title('Model Loss')\n",
    "plt.ylabel('Loss')\n",
    "plt.xlabel('Epoch')\n",
    "plt.legend(['Train', 'Validation'], loc='upper left')\n",
    "plt.show()\n",
    "\n",
    "# Evaluate model on test data\n",
    "\n"
   ]
  },
  {
   "cell_type": "code",
   "execution_count": null,
   "metadata": {},
   "outputs": [
    {
     "name": "stdout",
     "output_type": "stream",
     "text": [
      "Model: \"sequential_40\"\n",
      "_________________________________________________________________\n",
      " Layer (type)                Output Shape              Param #   \n",
      "=================================================================\n",
      " bidirectional_131 (Bidirect  (None, 15, 168)          61824     \n",
      " ional)                                                          \n",
      "                                                                 \n",
      " dropout_121 (Dropout)       (None, 15, 168)           0         \n",
      "                                                                 \n",
      " bidirectional_132 (Bidirect  (None, 15, 128)          119296    \n",
      " ional)                                                          \n",
      "                                                                 \n",
      " dropout_122 (Dropout)       (None, 15, 128)           0         \n",
      "                                                                 \n",
      " bidirectional_133 (Bidirect  (None, 15, 64)           41216     \n",
      " ional)                                                          \n",
      "                                                                 \n",
      " dropout_123 (Dropout)       (None, 15, 64)            0         \n",
      "                                                                 \n",
      " seq_self_attention_32 (SeqS  (None, 15, 64)           4161      \n",
      " elfAttention)                                                   \n",
      "                                                                 \n",
      " flatten_18 (Flatten)        (None, 960)               0         \n",
      "                                                                 \n",
      " dense_41 (Dense)            (None, 3)                 2883      \n",
      "                                                                 \n",
      "=================================================================\n",
      "Total params: 229,380\n",
      "Trainable params: 229,380\n",
      "Non-trainable params: 0\n",
      "_________________________________________________________________\n"
     ]
    },
    {
     "ename": "",
     "evalue": "",
     "output_type": "error",
     "traceback": [
      "\u001b[1;31mnotebook controller is DISPOSED. \n",
      "\u001b[1;31mView Jupyter <a href='command:jupyter.viewOutput'>log</a> for further details."
     ]
    },
    {
     "ename": "",
     "evalue": "",
     "output_type": "error",
     "traceback": [
      "\u001b[1;31mnotebook controller is DISPOSED. \n",
      "\u001b[1;31mView Jupyter <a href='command:jupyter.viewOutput'>log</a> for further details."
     ]
    },
    {
     "ename": "",
     "evalue": "",
     "output_type": "error",
     "traceback": [
      "\u001b[1;31mnotebook controller is DISPOSED. \n",
      "\u001b[1;31mView Jupyter <a href='command:jupyter.viewOutput'>log</a> for further details."
     ]
    }
   ],
   "source": [
    "model.summary()"
   ]
  },
  {
   "cell_type": "code",
   "execution_count": null,
   "metadata": {},
   "outputs": [
    {
     "ename": "",
     "evalue": "",
     "output_type": "error",
     "traceback": [
      "\u001b[1;31mnotebook controller is DISPOSED. \n",
      "\u001b[1;31mView Jupyter <a href='command:jupyter.viewOutput'>log</a> for further details."
     ]
    },
    {
     "ename": "",
     "evalue": "",
     "output_type": "error",
     "traceback": [
      "\u001b[1;31mnotebook controller is DISPOSED. \n",
      "\u001b[1;31mView Jupyter <a href='command:jupyter.viewOutput'>log</a> for further details."
     ]
    },
    {
     "ename": "",
     "evalue": "",
     "output_type": "error",
     "traceback": [
      "\u001b[1;31mnotebook controller is DISPOSED. \n",
      "\u001b[1;31mView Jupyter <a href='command:jupyter.viewOutput'>log</a> for further details."
     ]
    }
   ],
   "source": [
    "#code to use softmax as the last layer for classifying up down flat along with the probability\n",
    "\n",
    "import numpy as np\n",
    "import tensorflow as tf\n",
    "from keras.models import Sequential\n",
    "from keras.layers import Dense\n",
    "\n",
    "# Create a simple neural network model\n",
    "model = Sequential()\n",
    "model.add(Dense(3, input_dim=4, activation='softmax'))\n",
    "model.compile(loss='categorical_crossentropy', optimizer='adam')\n",
    "\n",
    "# Generate some input data\n",
    "X = np.array([[1, 2, 3, 4]])\n",
    "\n",
    "# Get the predicted probabilities for each class\n",
    "y_pred = model.predict(X)\n",
    "\n",
    "# Get the predicted class label and associated probability\n",
    "predicted_class_label = np.argmax(y_pred)\n",
    "predicted_probability = y_pred[0][predicted_class_label]\n",
    "\n",
    "# Print the results\n",
    "print('Predicted class label:', predicted_class_label)\n",
    "print('Associated probability:', predicted_probability)"
   ]
  },
  {
   "cell_type": "code",
   "execution_count": null,
   "metadata": {},
   "outputs": [
    {
     "name": "stdout",
     "output_type": "stream",
     "text": [
      "created\n"
     ]
    },
    {
     "name": "stderr",
     "output_type": "stream",
     "text": [
      "/Users/pratyushpradhan/Developer/Personal/Projects/Crypto/CryptoDataProcessingAndML/Version2/DataProcessing.py:34: FutureWarning: The behavior of `series[i:j]` with an integer-dtype index is deprecated. In a future version, this will be treated as *label-based* indexing, consistent with e.g. `series[i]` lookups. To retain the old behavior, use `series.iloc[i:j]`. To get the future behavior, use `series.loc[i:j]`.\n",
      "  MACD = ta.macd(df['close'])\n"
     ]
    },
    {
     "name": "stdout",
     "output_type": "stream",
     "text": [
      "[[1. 0. 0.]\n",
      " [0. 0. 1.]\n",
      " [0. 1. 0.]\n",
      " ...\n",
      " [0. 1. 0.]\n",
      " [1. 0. 0.]\n",
      " [0. 1. 0.]]\n",
      "Epoch 1/24\n",
      "41/41 [==============================] - 7s 46ms/step - loss: 0.9674 - accuracy: 0.4899 - val_loss: 0.8788 - val_accuracy: 0.5607\n",
      "Epoch 2/24\n",
      "41/41 [==============================] - 1s 23ms/step - loss: 0.9418 - accuracy: 0.5062 - val_loss: 0.8922 - val_accuracy: 0.4984\n",
      "Epoch 3/24\n",
      "41/41 [==============================] - 1s 22ms/step - loss: 0.9231 - accuracy: 0.5094 - val_loss: 0.9048 - val_accuracy: 0.5109\n",
      "Epoch 4/24\n",
      "41/41 [==============================] - 1s 22ms/step - loss: 0.9237 - accuracy: 0.5265 - val_loss: 0.8931 - val_accuracy: 0.5483\n",
      "Epoch 5/24\n",
      "41/41 [==============================] - 1s 23ms/step - loss: 0.9246 - accuracy: 0.5164 - val_loss: 0.8862 - val_accuracy: 0.5607\n",
      "Epoch 6/24\n",
      "41/41 [==============================] - 1s 22ms/step - loss: 0.9231 - accuracy: 0.5296 - val_loss: 0.8952 - val_accuracy: 0.5576\n",
      "Epoch 7/24\n",
      "41/41 [==============================] - 1s 22ms/step - loss: 0.9139 - accuracy: 0.5304 - val_loss: 0.8800 - val_accuracy: 0.5607\n",
      "Epoch 8/24\n",
      "41/41 [==============================] - 1s 22ms/step - loss: 0.9268 - accuracy: 0.5289 - val_loss: 0.9563 - val_accuracy: 0.5701\n",
      "Epoch 9/24\n",
      "41/41 [==============================] - 1s 25ms/step - loss: 0.9139 - accuracy: 0.5289 - val_loss: 0.9290 - val_accuracy: 0.5670\n",
      "Epoch 10/24\n",
      "41/41 [==============================] - 1s 22ms/step - loss: 0.9178 - accuracy: 0.5296 - val_loss: 0.9303 - val_accuracy: 0.5327\n",
      "Epoch 11/24\n",
      "41/41 [==============================] - 1s 23ms/step - loss: 0.9086 - accuracy: 0.5343 - val_loss: 0.8911 - val_accuracy: 0.5639\n",
      "Epoch 12/24\n",
      "41/41 [==============================] - 2s 38ms/step - loss: 0.9117 - accuracy: 0.5585 - val_loss: 0.9054 - val_accuracy: 0.5763\n",
      "Epoch 13/24\n",
      "41/41 [==============================] - 1s 23ms/step - loss: 0.9046 - accuracy: 0.5398 - val_loss: 0.8846 - val_accuracy: 0.5670\n",
      "Epoch 14/24\n",
      "41/41 [==============================] - 1s 23ms/step - loss: 0.9052 - accuracy: 0.5328 - val_loss: 0.8882 - val_accuracy: 0.5701\n",
      "Epoch 15/24\n",
      "41/41 [==============================] - 1s 23ms/step - loss: 0.8944 - accuracy: 0.5601 - val_loss: 0.8840 - val_accuracy: 0.5950\n",
      "Epoch 16/24\n",
      "41/41 [==============================] - 1s 23ms/step - loss: 0.8949 - accuracy: 0.5640 - val_loss: 0.8744 - val_accuracy: 0.6012\n",
      "Epoch 17/24\n",
      "41/41 [==============================] - 1s 24ms/step - loss: 0.8942 - accuracy: 0.5920 - val_loss: 0.8687 - val_accuracy: 0.5950\n",
      "Epoch 18/24\n",
      "41/41 [==============================] - 1s 22ms/step - loss: 0.8862 - accuracy: 0.5827 - val_loss: 0.8747 - val_accuracy: 0.5826\n",
      "Epoch 19/24\n",
      "41/41 [==============================] - 1s 22ms/step - loss: 0.8835 - accuracy: 0.5874 - val_loss: 0.8848 - val_accuracy: 0.5607\n",
      "Epoch 20/24\n",
      "41/41 [==============================] - 1s 23ms/step - loss: 0.8821 - accuracy: 0.5842 - val_loss: 0.8666 - val_accuracy: 0.5950\n",
      "Epoch 21/24\n",
      "41/41 [==============================] - 1s 22ms/step - loss: 0.8849 - accuracy: 0.5936 - val_loss: 0.8786 - val_accuracy: 0.5732\n",
      "Epoch 22/24\n",
      "41/41 [==============================] - 1s 23ms/step - loss: 0.8720 - accuracy: 0.5998 - val_loss: 0.9087 - val_accuracy: 0.5732\n",
      "Epoch 23/24\n",
      "41/41 [==============================] - 1s 22ms/step - loss: 0.8746 - accuracy: 0.6045 - val_loss: 0.9045 - val_accuracy: 0.5576\n",
      "Epoch 24/24\n",
      "41/41 [==============================] - 1s 22ms/step - loss: 0.8788 - accuracy: 0.6053 - val_loss: 0.8760 - val_accuracy: 0.5763\n",
      "Sequential model performance:\n",
      "13/13 [==============================] - 0s 6ms/step - loss: 0.9434 - accuracy: 0.5810\n"
     ]
    },
    {
     "ename": "",
     "evalue": "",
     "output_type": "error",
     "traceback": [
      "\u001b[1;31mnotebook controller is DISPOSED. \n",
      "\u001b[1;31mView Jupyter <a href='command:jupyter.viewOutput'>log</a> for further details."
     ]
    },
    {
     "ename": "",
     "evalue": "",
     "output_type": "error",
     "traceback": [
      "\u001b[1;31mnotebook controller is DISPOSED. \n",
      "\u001b[1;31mView Jupyter <a href='command:jupyter.viewOutput'>log</a> for further details."
     ]
    },
    {
     "ename": "",
     "evalue": "",
     "output_type": "error",
     "traceback": [
      "\u001b[1;31mnotebook controller is DISPOSED. \n",
      "\u001b[1;31mView Jupyter <a href='command:jupyter.viewOutput'>log</a> for further details."
     ]
    }
   ],
   "source": [
    "from sklearn.metrics import precision_score, recall_score, f1_score\n",
    "\n",
    "model.compile(loss='categorical_crossentropy', optimizer='adam', \n",
    "              metrics=['accuracy', \n",
    "                       tf.keras.metrics.Precision(), \n",
    "                       tf.keras.metrics.Recall(),\n",
    "                       tf.keras.metrics.AUC(name='auc'),\n",
    "                       tf.keras.metrics.TruePositives(name='tp'),\n",
    "                       tf.keras.metrics.FalsePositives(name='fp'),\n",
    "                       tf.keras.metrics.TrueNegatives(name='tn'),\n",
    "                       tf.keras.metrics.FalseNegatives(name='fn'),\n",
    "                       ])\n",
    "\n",
    "def f1(y_true, y_pred):\n",
    "    y_pred = K.round(y_pred)\n",
    "    tp = K.sum(K.cast(y_true*y_pred, 'float'), axis=0)\n",
    "    tn = K.sum(K.cast((1-y_true)*(1-y_pred), 'float'), axis=0)\n",
    "    fp = K.sum(K.cast((1-y_true)*y_pred, 'float'), axis=0)\n",
    "    fn = K.sum(K.cast(y_true*(1-y_pred), 'float'), axis=0)\n",
    "    precision = tp / (tp + fp + K.epsilon())\n",
    "    recall = tp / (tp + fn + K.epsilon())\n",
    "    f1 = 2*(precision*recall)/(precision+recall+K.epsilon())\n",
    "    return K.mean(f1)\n",
    "\n",
    "model.compile(loss='categorical_crossentropy', optimizer='adam',\n",
    "              metrics=['accuracy',\n",
    "                       tf.keras.metrics.Precision(),\n",
    "                       tf.keras.metrics.Recall(),\n",
    "                       f1])\n",
    "\n",
    "\n",
    "\n",
    "\n"
   ]
  },
  {
   "cell_type": "code",
   "execution_count": null,
   "metadata": {},
   "outputs": [
    {
     "data": {
      "image/png": "[encoded data removed]",
      "text/plain": [
       "<Figure size 640x480 with 1 Axes>"
      ]
     },
     "metadata": {},
     "output_type": "display_data"
    },
    {
     "data": {
      "image/png": "[encoded data removed]",
      "text/plain": [
       "<Figure size 640x480 with 1 Axes>"
      ]
     },
     "metadata": {},
     "output_type": "display_data"
    },
    {
     "ename": "NameError",
     "evalue": "name 'loss' is not defined",
     "output_type": "error",
     "traceback": [
      "\u001b[0;31m---------------------------------------------------------------------------\u001b[0m",
      "\u001b[0;31mNameError\u001b[0m                                 Traceback (most recent call last)",
      "Cell \u001b[0;32mIn[66], line 24\u001b[0m\n\u001b[1;32m     19\u001b[0m plt\u001b[39m.\u001b[39mshow()\n\u001b[1;32m     21\u001b[0m \u001b[39m# Evaluate model on test data\u001b[39;00m\n\u001b[1;32m     22\u001b[0m \n\u001b[1;32m     23\u001b[0m \u001b[39m# Plot testing accuracy and loss\u001b[39;00m\n\u001b[0;32m---> 24\u001b[0m plt\u001b[39m.\u001b[39mbar([\u001b[39m'\u001b[39m\u001b[39mTest Loss\u001b[39m\u001b[39m'\u001b[39m, \u001b[39m'\u001b[39m\u001b[39mTest Accuracy\u001b[39m\u001b[39m'\u001b[39m], [loss, accuracy])\n\u001b[1;32m     25\u001b[0m plt\u001b[39m.\u001b[39mtitle(\u001b[39m'\u001b[39m\u001b[39mModel Testing Results\u001b[39m\u001b[39m'\u001b[39m)\n\u001b[1;32m     26\u001b[0m plt\u001b[39m.\u001b[39mylabel(\u001b[39m'\u001b[39m\u001b[39mMetric Value\u001b[39m\u001b[39m'\u001b[39m)\n",
      "\u001b[0;31mNameError\u001b[0m: name 'loss' is not defined"
     ]
    },
    {
     "ename": "",
     "evalue": "",
     "output_type": "error",
     "traceback": [
      "\u001b[1;31mnotebook controller is DISPOSED. \n",
      "\u001b[1;31mView Jupyter <a href='command:jupyter.viewOutput'>log</a> for further details."
     ]
    },
    {
     "ename": "",
     "evalue": "",
     "output_type": "error",
     "traceback": [
      "\u001b[1;31mnotebook controller is DISPOSED. \n",
      "\u001b[1;31mView Jupyter <a href='command:jupyter.viewOutput'>log</a> for further details."
     ]
    }
   ],
   "source": [
    "import matplotlib.pyplot as plt\n",
    "\n",
    "# Plot training and validation accuracy\n",
    "plt.plot(history.history['accuracy'])\n",
    "plt.plot(history.history['val_accuracy'])\n",
    "plt.title('Model Accuracy')\n",
    "plt.ylabel('Accuracy')\n",
    "plt.xlabel('Epoch')\n",
    "plt.legend(['Train', 'Validation'], loc='upper left')\n",
    "plt.show()\n",
    "\n",
    "# Plot training and validation loss\n",
    "plt.plot(history.history['loss'])\n",
    "plt.plot(history.history['val_loss'])\n",
    "plt.title('Model Loss')\n",
    "plt.ylabel('Loss')\n",
    "plt.xlabel('Epoch')\n",
    "plt.legend(['Train', 'Validation'], loc='upper left')\n",
    "plt.show()\n",
    "\n",
    "# Evaluate model on test data\n",
    "\n",
    "# Plot testing accuracy and loss\n",
    "plt.bar(['Test Loss', 'Test Accuracy'], [loss, accuracy])\n",
    "plt.title('Model Testing Results')\n",
    "plt.ylabel('Metric Value')\n",
    "plt.show()"
   ]
  },
  {
   "cell_type": "code",
   "execution_count": null,
   "metadata": {},
   "outputs": [
    {
     "ename": "",
     "evalue": "",
     "output_type": "error",
     "traceback": [
      "\u001b[1;31mnotebook controller is DISPOSED. \n",
      "\u001b[1;31mView Jupyter <a href='command:jupyter.viewOutput'>log</a> for further details."
     ]
    },
    {
     "ename": "",
     "evalue": "",
     "output_type": "error",
     "traceback": [
      "\u001b[1;31mnotebook controller is DISPOSED. \n",
      "\u001b[1;31mView Jupyter <a href='command:jupyter.viewOutput'>log</a> for further details."
     ]
    },
    {
     "ename": "",
     "evalue": "",
     "output_type": "error",
     "traceback": [
      "\u001b[1;31mnotebook controller is DISPOSED. \n",
      "\u001b[1;31mView Jupyter <a href='command:jupyter.viewOutput'>log</a> for further details."
     ]
    }
   ],
   "source": [
    "model.summary()"
   ]
  },
  {
   "cell_type": "code",
   "execution_count": null,
   "metadata": {},
   "outputs": [
    {
     "name": "stdout",
     "output_type": "stream",
     "text": [
      "created\n",
      "integer_encoded is [2 1 0 ... 0 2 0]\n",
      "183\n",
      "Epoch 1/30\n"
     ]
    },
    {
     "name": "stderr",
     "output_type": "stream",
     "text": [
      "/opt/homebrew/Caskroom/miniforge/base/envs/ML/lib/python3.8/site-packages/keras/initializers/initializers_v2.py:120: UserWarning: The initializer GlorotNormal is unseeded and being called multiple times, which will return identical values  each time (even if the initializer is unseeded). Please update your code to provide a seed to the initializer, or avoid using the same initalizer instance more than once.\n",
      "  warnings.warn(\n"
     ]
    },
    {
     "name": "stdout",
     "output_type": "stream",
     "text": [
      "43/43 [==============================] - 7s 43ms/step - loss: 0.9570 - accuracy: 0.4807 - precision_5: 0.5033 - recall_5: 0.2233 - tp: 307.0000 - fp: 303.0000 - tn: 2447.0000 - fn: 1068.0000 - val_loss: 2.0626 - val_accuracy: 0.0288 - val_precision_5: 0.0411 - val_recall_5: 0.0237 - val_tp: 14.0000 - val_fp: 327.0000 - val_tn: 853.0000 - val_fn: 576.0000\n",
      "Epoch 2/30\n",
      "43/43 [==============================] - 1s 23ms/step - loss: 0.9123 - accuracy: 0.5324 - precision_5: 0.5420 - recall_5: 0.3193 - tp: 439.0000 - fp: 371.0000 - tn: 2379.0000 - fn: 936.0000 - val_loss: 2.2719 - val_accuracy: 0.0542 - val_precision_5: 0.0627 - val_recall_5: 0.0373 - val_tp: 22.0000 - val_fp: 329.0000 - val_tn: 851.0000 - val_fn: 568.0000\n",
      "Epoch 3/30\n",
      "43/43 [==============================] - 1s 24ms/step - loss: 0.9110 - accuracy: 0.5375 - precision_5: 0.5573 - recall_5: 0.3607 - tp: 496.0000 - fp: 394.0000 - tn: 2356.0000 - fn: 879.0000 - val_loss: 1.9629 - val_accuracy: 0.0441 - val_precision_5: 0.0548 - val_recall_5: 0.0271 - val_tp: 16.0000 - val_fp: 276.0000 - val_tn: 904.0000 - val_fn: 574.0000\n",
      "Epoch 4/30\n",
      "43/43 [==============================] - 1s 25ms/step - loss: 0.9136 - accuracy: 0.5222 - precision_5: 0.5574 - recall_5: 0.3498 - tp: 481.0000 - fp: 382.0000 - tn: 2368.0000 - fn: 894.0000 - val_loss: 2.1636 - val_accuracy: 0.0305 - val_precision_5: 0.0464 - val_recall_5: 0.0186 - val_tp: 11.0000 - val_fp: 226.0000 - val_tn: 954.0000 - val_fn: 579.0000\n",
      "Epoch 5/30\n",
      "43/43 [==============================] - 1s 26ms/step - loss: 0.9119 - accuracy: 0.5491 - precision_5: 0.5690 - recall_5: 0.3207 - tp: 441.0000 - fp: 334.0000 - tn: 2416.0000 - fn: 934.0000 - val_loss: 2.0680 - val_accuracy: 0.0373 - val_precision_5: 0.0533 - val_recall_5: 0.0203 - val_tp: 12.0000 - val_fp: 213.0000 - val_tn: 967.0000 - val_fn: 578.0000\n",
      "Epoch 6/30\n",
      "43/43 [==============================] - 1s 30ms/step - loss: 0.9037 - accuracy: 0.5411 - precision_5: 0.5574 - recall_5: 0.3673 - tp: 505.0000 - fp: 401.0000 - tn: 2349.0000 - fn: 870.0000 - val_loss: 2.1688 - val_accuracy: 0.0305 - val_precision_5: 0.0346 - val_recall_5: 0.0203 - val_tp: 12.0000 - val_fp: 335.0000 - val_tn: 845.0000 - val_fn: 578.0000\n",
      "Epoch 7/30\n",
      "43/43 [==============================] - 1s 33ms/step - loss: 0.9059 - accuracy: 0.5331 - precision_5: 0.5694 - recall_5: 0.3876 - tp: 533.0000 - fp: 403.0000 - tn: 2347.0000 - fn: 842.0000 - val_loss: 1.9061 - val_accuracy: 0.0525 - val_precision_5: 0.0675 - val_recall_5: 0.0356 - val_tp: 21.0000 - val_fp: 290.0000 - val_tn: 890.0000 - val_fn: 569.0000\n",
      "Epoch 8/30\n",
      "43/43 [==============================] - 1s 30ms/step - loss: 0.9035 - accuracy: 0.5396 - precision_5: 0.5664 - recall_5: 0.3847 - tp: 529.0000 - fp: 405.0000 - tn: 2345.0000 - fn: 846.0000 - val_loss: 2.2881 - val_accuracy: 0.0407 - val_precision_5: 0.0420 - val_recall_5: 0.0203 - val_tp: 12.0000 - val_fp: 274.0000 - val_tn: 906.0000 - val_fn: 578.0000\n",
      "Epoch 9/30\n",
      "43/43 [==============================] - 1s 27ms/step - loss: 0.9063 - accuracy: 0.5455 - precision_5: 0.5675 - recall_5: 0.3636 - tp: 500.0000 - fp: 381.0000 - tn: 2369.0000 - fn: 875.0000 - val_loss: 2.3264 - val_accuracy: 0.0576 - val_precision_5: 0.0767 - val_recall_5: 0.0424 - val_tp: 25.0000 - val_fp: 301.0000 - val_tn: 879.0000 - val_fn: 565.0000\n",
      "Epoch 10/30\n",
      "43/43 [==============================] - 1s 27ms/step - loss: 0.9012 - accuracy: 0.5404 - precision_5: 0.5708 - recall_5: 0.3927 - tp: 540.0000 - fp: 406.0000 - tn: 2344.0000 - fn: 835.0000 - val_loss: 2.1938 - val_accuracy: 0.0441 - val_precision_5: 0.0648 - val_recall_5: 0.0322 - val_tp: 19.0000 - val_fp: 274.0000 - val_tn: 906.0000 - val_fn: 571.0000\n",
      "Epoch 11/30\n",
      "43/43 [==============================] - 1s 27ms/step - loss: 0.9005 - accuracy: 0.5367 - precision_5: 0.5722 - recall_5: 0.3978 - tp: 547.0000 - fp: 409.0000 - tn: 2341.0000 - fn: 828.0000 - val_loss: 2.1865 - val_accuracy: 0.0424 - val_precision_5: 0.0489 - val_recall_5: 0.0254 - val_tp: 15.0000 - val_fp: 292.0000 - val_tn: 888.0000 - val_fn: 575.0000\n",
      "Epoch 12/30\n",
      "43/43 [==============================] - 1s 25ms/step - loss: 0.8941 - accuracy: 0.5505 - precision_5: 0.5724 - recall_5: 0.4109 - tp: 565.0000 - fp: 422.0000 - tn: 2328.0000 - fn: 810.0000 - val_loss: 2.3427 - val_accuracy: 0.0525 - val_precision_5: 0.0634 - val_recall_5: 0.0373 - val_tp: 22.0000 - val_fp: 325.0000 - val_tn: 855.0000 - val_fn: 568.0000\n",
      "Epoch 13/30\n",
      "43/43 [==============================] - 1s 24ms/step - loss: 0.8982 - accuracy: 0.5462 - precision_5: 0.5675 - recall_5: 0.4007 - tp: 551.0000 - fp: 420.0000 - tn: 2330.0000 - fn: 824.0000 - val_loss: 2.1848 - val_accuracy: 0.0542 - val_precision_5: 0.0697 - val_recall_5: 0.0339 - val_tp: 20.0000 - val_fp: 267.0000 - val_tn: 913.0000 - val_fn: 570.0000\n",
      "Epoch 14/30\n",
      "43/43 [==============================] - 1s 24ms/step - loss: 0.8998 - accuracy: 0.5440 - precision_5: 0.5594 - recall_5: 0.3564 - tp: 490.0000 - fp: 386.0000 - tn: 2364.0000 - fn: 885.0000 - val_loss: 2.0653 - val_accuracy: 0.0542 - val_precision_5: 0.0623 - val_recall_5: 0.0356 - val_tp: 21.0000 - val_fp: 316.0000 - val_tn: 864.0000 - val_fn: 569.0000\n",
      "Epoch 15/30\n",
      "43/43 [==============================] - 1s 24ms/step - loss: 0.8926 - accuracy: 0.5498 - precision_5: 0.5708 - recall_5: 0.3898 - tp: 536.0000 - fp: 403.0000 - tn: 2347.0000 - fn: 839.0000 - val_loss: 2.6510 - val_accuracy: 0.0407 - val_precision_5: 0.0350 - val_recall_5: 0.0305 - val_tp: 18.0000 - val_fp: 496.0000 - val_tn: 684.0000 - val_fn: 572.0000\n",
      "Epoch 16/30\n",
      "43/43 [==============================] - 1s 27ms/step - loss: 0.8976 - accuracy: 0.5484 - precision_5: 0.5767 - recall_5: 0.4291 - tp: 590.0000 - fp: 433.0000 - tn: 2317.0000 - fn: 785.0000 - val_loss: 2.3555 - val_accuracy: 0.0492 - val_precision_5: 0.0506 - val_recall_5: 0.0356 - val_tp: 21.0000 - val_fp: 394.0000 - val_tn: 786.0000 - val_fn: 569.0000\n",
      "Epoch 17/30\n",
      "43/43 [==============================] - 1s 25ms/step - loss: 0.8911 - accuracy: 0.5673 - precision_5: 0.5887 - recall_5: 0.4393 - tp: 604.0000 - fp: 422.0000 - tn: 2328.0000 - fn: 771.0000 - val_loss: 2.2561 - val_accuracy: 0.0373 - val_precision_5: 0.0434 - val_recall_5: 0.0305 - val_tp: 18.0000 - val_fp: 397.0000 - val_tn: 783.0000 - val_fn: 572.0000\n",
      "Epoch 18/30\n",
      "43/43 [==============================] - 1s 25ms/step - loss: 0.8831 - accuracy: 0.5651 - precision_5: 0.5979 - recall_5: 0.4487 - tp: 617.0000 - fp: 415.0000 - tn: 2335.0000 - fn: 758.0000 - val_loss: 2.4575 - val_accuracy: 0.0508 - val_precision_5: 0.0504 - val_recall_5: 0.0407 - val_tp: 24.0000 - val_fp: 452.0000 - val_tn: 728.0000 - val_fn: 566.0000\n",
      "Epoch 19/30\n",
      "43/43 [==============================] - 1s 26ms/step - loss: 0.8876 - accuracy: 0.5665 - precision_5: 0.5895 - recall_5: 0.4669 - tp: 642.0000 - fp: 447.0000 - tn: 2303.0000 - fn: 733.0000 - val_loss: 2.0222 - val_accuracy: 0.0508 - val_precision_5: 0.0388 - val_recall_5: 0.0305 - val_tp: 18.0000 - val_fp: 446.0000 - val_tn: 734.0000 - val_fn: 572.0000\n",
      "Epoch 20/30\n",
      "43/43 [==============================] - 1s 28ms/step - loss: 0.8854 - accuracy: 0.5811 - precision_5: 0.6018 - recall_5: 0.4342 - tp: 597.0000 - fp: 395.0000 - tn: 2355.0000 - fn: 778.0000 - val_loss: 2.1125 - val_accuracy: 0.0407 - val_precision_5: 0.0474 - val_recall_5: 0.0322 - val_tp: 19.0000 - val_fp: 382.0000 - val_tn: 798.0000 - val_fn: 571.0000\n",
      "Epoch 21/30\n",
      "43/43 [==============================] - 1s 27ms/step - loss: 0.8803 - accuracy: 0.5811 - precision_5: 0.6170 - recall_5: 0.4604 - tp: 633.0000 - fp: 393.0000 - tn: 2357.0000 - fn: 742.0000 - val_loss: 2.2449 - val_accuracy: 0.0542 - val_precision_5: 0.0658 - val_recall_5: 0.0525 - val_tp: 31.0000 - val_fp: 440.0000 - val_tn: 740.0000 - val_fn: 559.0000\n",
      "Epoch 22/30\n",
      "43/43 [==============================] - 1s 28ms/step - loss: 0.8628 - accuracy: 0.6029 - precision_5: 0.6176 - recall_5: 0.5215 - tp: 717.0000 - fp: 444.0000 - tn: 2306.0000 - fn: 658.0000 - val_loss: 2.2310 - val_accuracy: 0.0492 - val_precision_5: 0.0640 - val_recall_5: 0.0441 - val_tp: 26.0000 - val_fp: 380.0000 - val_tn: 800.0000 - val_fn: 564.0000\n",
      "Epoch 23/30\n",
      "43/43 [==============================] - 1s 26ms/step - loss: 0.8753 - accuracy: 0.5811 - precision_5: 0.5935 - recall_5: 0.4800 - tp: 660.0000 - fp: 452.0000 - tn: 2298.0000 - fn: 715.0000 - val_loss: 2.0177 - val_accuracy: 0.0559 - val_precision_5: 0.0522 - val_recall_5: 0.0305 - val_tp: 18.0000 - val_fp: 327.0000 - val_tn: 853.0000 - val_fn: 572.0000\n",
      "Epoch 24/30\n",
      "43/43 [==============================] - 1s 26ms/step - loss: 0.8718 - accuracy: 0.5927 - precision_5: 0.6153 - recall_5: 0.4909 - tp: 675.0000 - fp: 422.0000 - tn: 2328.0000 - fn: 700.0000 - val_loss: 1.9058 - val_accuracy: 0.0441 - val_precision_5: 0.0584 - val_recall_5: 0.0390 - val_tp: 23.0000 - val_fp: 371.0000 - val_tn: 809.0000 - val_fn: 567.0000\n",
      "Epoch 25/30\n",
      "43/43 [==============================] - 1s 27ms/step - loss: 0.8587 - accuracy: 0.6051 - precision_5: 0.6307 - recall_5: 0.5404 - tp: 743.0000 - fp: 435.0000 - tn: 2315.0000 - fn: 632.0000 - val_loss: 2.1285 - val_accuracy: 0.0508 - val_precision_5: 0.0617 - val_recall_5: 0.0475 - val_tp: 28.0000 - val_fp: 426.0000 - val_tn: 754.0000 - val_fn: 562.0000\n",
      "Epoch 26/30\n",
      "43/43 [==============================] - 1s 26ms/step - loss: 0.8483 - accuracy: 0.6007 - precision_5: 0.6234 - recall_5: 0.5418 - tp: 745.0000 - fp: 450.0000 - tn: 2300.0000 - fn: 630.0000 - val_loss: 2.1187 - val_accuracy: 0.0576 - val_precision_5: 0.0571 - val_recall_5: 0.0441 - val_tp: 26.0000 - val_fp: 429.0000 - val_tn: 751.0000 - val_fn: 564.0000\n",
      "Epoch 27/30\n",
      "43/43 [==============================] - 1s 25ms/step - loss: 0.8693 - accuracy: 0.5804 - precision_5: 0.6123 - recall_5: 0.4996 - tp: 687.0000 - fp: 435.0000 - tn: 2315.0000 - fn: 688.0000 - val_loss: 2.1493 - val_accuracy: 0.0627 - val_precision_5: 0.0557 - val_recall_5: 0.0458 - val_tp: 27.0000 - val_fp: 458.0000 - val_tn: 722.0000 - val_fn: 563.0000\n",
      "Epoch 28/30\n",
      "43/43 [==============================] - 1s 26ms/step - loss: 0.8561 - accuracy: 0.6000 - precision_5: 0.6194 - recall_5: 0.5338 - tp: 734.0000 - fp: 451.0000 - tn: 2299.0000 - fn: 641.0000 - val_loss: 2.3337 - val_accuracy: 0.0492 - val_precision_5: 0.0538 - val_recall_5: 0.0407 - val_tp: 24.0000 - val_fp: 422.0000 - val_tn: 758.0000 - val_fn: 566.0000\n",
      "Epoch 29/30\n",
      "43/43 [==============================] - 1s 35ms/step - loss: 0.8565 - accuracy: 0.6080 - precision_5: 0.6281 - recall_5: 0.5258 - tp: 723.0000 - fp: 428.0000 - tn: 2322.0000 - fn: 652.0000 - val_loss: 2.1522 - val_accuracy: 0.0441 - val_precision_5: 0.0443 - val_recall_5: 0.0339 - val_tp: 20.0000 - val_fp: 431.0000 - val_tn: 749.0000 - val_fn: 570.0000\n",
      "Epoch 30/30\n",
      "43/43 [==============================] - 1s 24ms/step - loss: 0.8520 - accuracy: 0.6073 - precision_5: 0.6425 - recall_5: 0.5084 - tp: 699.0000 - fp: 389.0000 - tn: 2361.0000 - fn: 676.0000 - val_loss: 2.2595 - val_accuracy: 0.0610 - val_precision_5: 0.0674 - val_recall_5: 0.0593 - val_tp: 35.0000 - val_fp: 484.0000 - val_tn: 696.0000 - val_fn: 555.0000\n"
     ]
    },
    {
     "ename": "",
     "evalue": "",
     "output_type": "error",
     "traceback": [
      "\u001b[1;31mnotebook controller is DISPOSED. \n",
      "\u001b[1;31mView Jupyter <a href='command:jupyter.viewOutput'>log</a> for further details."
     ]
    },
    {
     "ename": "",
     "evalue": "",
     "output_type": "error",
     "traceback": [
      "\u001b[1;31mnotebook controller is DISPOSED. \n",
      "\u001b[1;31mView Jupyter <a href='command:jupyter.viewOutput'>log</a> for further details."
     ]
    }
   ],
   "source": [
    "import pandas as pd\n",
    "import numpy as np\n",
    "import pandas_ta as ta\n",
    "import DataProcessing\n",
    "from sklearn.model_selection import train_test_split\n",
    "from keras.utils import to_categorical\n",
    "from sklearn.preprocessing import LabelEncoder\n",
    "from keras.models import Sequential\n",
    "from keras.layers import LSTM, Dense,Input, Dropout,Attention, Activation, Flatten, TimeDistributed, RepeatVector, Permute, Multiply, Lambda,Bidirectional\n",
    "from keras import backend as K\n",
    "from imblearn.over_sampling import SMOTE\n",
    "\n",
    "dataProcess = DataProcessing.ETL()\n",
    "df = dataProcess.Load_Clean_Data('./historical_data/Binance_ETHUSDT_d.csv','1d')\n",
    "\n",
    "cols= ['ti_stoch_kd','ti_MACD']\n",
    "cols_to_normalize = ['open','high', 'low', 'close', 'base_volume'] # removed num_trades\n",
    "df = dataProcess.Add_TI_Data(df, cols=cols)\n",
    "df= dataProcess.Add_Label(df,cols_to_normalize=cols_to_normalize)\n",
    "#important: reverse the order and Reset the index to start from 0\n",
    "df= df[::-1]\n",
    "df.reset_index(drop=True, inplace=True)\n",
    "\n",
    "\n",
    "#removed time ('unix_start_datetime')\n",
    "x_cols = cols_to_normalize+cols\n",
    "labels = ['result_A','result_B']\n",
    "tensor_temp= df[x_cols+labels]\n",
    "sequence_num=14 # also called timesteps\n",
    "tensor = dataProcess.create_tensor_with_sequence(tensor_temp,labels,sequence_num)\n",
    "#note we have 2 labels, one for daily(B) another for shortterm (A) => shorterm>daily\n",
    "#y1= df['result_A']\n",
    "X= tensor.loc[:,~tensor.columns.isin(labels)]\n",
    "\n",
    "\n",
    "y2= tensor['result_B']\n",
    "\n",
    "y = y2.replace({'up': 0, 'down': 1, 'flat':2})\n",
    "label_encoder = LabelEncoder()\n",
    "integer_encoded = label_encoder.fit_transform(y)\n",
    "print(f'integer_encoded is {integer_encoded}')\n",
    "y = to_categorical(y, num_classes=3)\n",
    "count3 = np.count_nonzero((y == [0, 0, 1]).all(axis=1))\n",
    "print(count3)\n",
    "# # Create the oversampling object\n",
    "# smote = SMOTE()\n",
    "# # Oversample the data\n",
    "# X_resampled, y_resampled = smote.fit_resample(X, y)\n",
    "# count4 = np.count_nonzero((y_resampled == [0, 0, 1]).all(axis=1))\n",
    "\n",
    "\n",
    "# split data into training and test sets\n",
    "X_train, X_test, y_train, y_test = train_test_split(X, y, test_size=0.3, shuffle=False)\n",
    "# further split training data into training and validation sets\n",
    "# Create the oversampling object\n",
    "smote = SMOTE()\n",
    "# Oversample the data\n",
    "X_train, y_train = smote.fit_resample(X_train, y_train)\n",
    "X_train, X_val, y_train, y_val = train_test_split(X_train, y_train, test_size=0.3, shuffle=False)\n",
    "\n",
    "# Important: reshape it into a 3D tensor with dimensions (number of samples, sequence length, number of features) to process with LSTM\n",
    "X_train = X_train.to_numpy().reshape(X_train.shape[0],sequence_num+1,len(x_cols))\n",
    "X_test = X_test.to_numpy().reshape(X_test.shape[0],sequence_num+1,len(x_cols))\n",
    "X_val = X_val.to_numpy().reshape(X_val.shape[0],sequence_num+1,len(x_cols))\n",
    "\n",
    "from keras_self_attention import SeqSelfAttention\n",
    "from sklearn.metrics import accuracy_score, precision_score, recall_score, f1_score\n",
    "\n",
    "import tensorflow as tf\n",
    "model = Sequential([\n",
    "Bidirectional(LSTM(units=120, return_sequences=True, input_shape=(sequence_num+1,len(x_cols)))),\n",
    "Dropout(0.4),\n",
    "Bidirectional(LSTM(units=64,\n",
    "                    return_sequences=True\n",
    "                    )),\n",
    "Dropout(0.6),\n",
    "Bidirectional(\n",
    "    LSTM(\n",
    "    units=32,\n",
    "    return_sequences=True\n",
    "    )),\n",
    "Dropout(0.7),\n",
    "SeqSelfAttention(attention_activation='tanh'),\n",
    "Flatten(),\n",
    "Dense(3,activation='softmax')])\n",
    "\n",
    "\n",
    "model.compile(loss='categorical_crossentropy', optimizer='adam',\n",
    "              metrics=['accuracy',\n",
    "                       tf.keras.metrics.Precision(),\n",
    "                       tf.keras.metrics.Recall(),\n",
    "                       tf.keras.metrics.TruePositives(name='tp'),\n",
    "                       tf.keras.metrics.FalsePositives(name='fp'),\n",
    "                       tf.keras.metrics.TrueNegatives(name='tn'),\n",
    "                       tf.keras.metrics.FalseNegatives(name='fn'),\n",
    "                       ])\n",
    "#model.compile(loss='categorical_crossentropy', optimizer='adam', metrics=['accuracy'])\n",
    "history = model.fit(X_train, y_train, validation_data=(X_val, y_val), epochs= 30)\n"
   ]
  },
  {
   "cell_type": "code",
   "execution_count": null,
   "metadata": {},
   "outputs": [
    {
     "name": "stdout",
     "output_type": "stream",
     "text": [
      "(590, 3)\n",
      "19/19 [==============================] - 1s 6ms/step\n",
      "lol\n",
      "[0.39660296 0.20058295 0.40281403]\n",
      "lol\n",
      "[0.36139953 0.12589219 0.51270825]\n",
      "lol\n",
      "[0.1342565  0.06491395 0.8008296 ]\n",
      "lol\n",
      "[0.19031404 0.10966475 0.70002127]\n",
      "lol\n",
      "[0.09185205 0.24635914 0.6617888 ]\n",
      "lol\n",
      "[0.1913916  0.07710449 0.7315039 ]\n",
      "lol\n",
      "[0.16005635 0.29510581 0.54483783]\n",
      "lol\n",
      "[0.12267429 0.2673848  0.60994095]\n",
      "[[1. 0. 0.]\n",
      " [0. 1. 0.]\n",
      " [0. 1. 0.]\n",
      " ...\n",
      " [1. 0. 0.]\n",
      " [0. 1. 0.]\n",
      " [1. 0. 0.]]\n",
      "(590, 3)\n",
      "(590, 3)\n",
      "              precision    recall  f1-score   support\n",
      "\n",
      "           0       0.07      0.74      0.14        34\n",
      "           1       0.03      0.57      0.06        14\n",
      "           2       1.00      0.02      0.04       542\n",
      "\n",
      "   micro avg       0.07      0.07      0.07       590\n",
      "   macro avg       0.37      0.44      0.08       590\n",
      "weighted avg       0.92      0.07      0.05       590\n",
      " samples avg       0.07      0.07      0.07       590\n",
      "\n"
     ]
    },
    {
     "ename": "",
     "evalue": "",
     "output_type": "error",
     "traceback": [
      "\u001b[1;31mnotebook controller is DISPOSED. \n",
      "\u001b[1;31mView Jupyter <a href='command:jupyter.viewOutput'>log</a> for further details."
     ]
    },
    {
     "ename": "",
     "evalue": "",
     "output_type": "error",
     "traceback": [
      "\u001b[1;31mnotebook controller is DISPOSED. \n",
      "\u001b[1;31mView Jupyter <a href='command:jupyter.viewOutput'>log</a> for further details."
     ]
    }
   ],
   "source": [
    "print(y_val.shape)\n",
    "y_pred = model.predict(X_val)\n",
    "index_test = 2\n",
    "a=0\n",
    "b=1\n",
    "temp1=[]\n",
    "# for i in range(y_val.shape[0]):\n",
    "#     if(y_val[i][index_test] > y_val[i][a] and y_val[i][index_test] > y_val[i][b]):\n",
    "#         print(y_val[i])\n",
    "#         print(f'corr {y_pred[i]}')\n",
    "\n",
    "for i in range(y_pred.shape[0]):\n",
    "    if(y_pred[i][index_test] > y_pred[i][1] and y_pred[i][index_test] > y_pred[i][0]):\n",
    "        print('lol')\n",
    "        print(y_pred[i])\n",
    "# create an empty binary array with the same shape as probs_2d\n",
    "binary_2d = np.zeros_like(y_pred)\n",
    "# loop through each row of probs_2d\n",
    "# loop through each row of probs_2d\n",
    "for i in range(y_pred.shape[0]):\n",
    "    # set values above 0.35 to 1, and below to 0\n",
    "    temp = []\n",
    "    isAdded = False\n",
    "    for val in y_pred[i]:\n",
    "        if val > 0.35:\n",
    "            if not isAdded:\n",
    "                temp.append(1)\n",
    "                isAdded = True\n",
    "            elif val >= max(temp):\n",
    "                temp = [0 for _ in range(len(temp))]\n",
    "                temp.append(1)\n",
    "            else:\n",
    "                temp.append(0)\n",
    "        else:\n",
    "            temp.append(0)\n",
    "            isAdded = False\n",
    "    binary_2d[i] = np.array(temp)\n",
    "print(binary_2d)\n",
    "\n",
    "from sklearn.metrics import classification_report\n",
    "print(y_val.shape)\n",
    "print(binary_2d.shape)\n",
    "print(classification_report(y_val, binary_2d))\n",
    "\n"
   ]
  },
  {
   "cell_type": "code",
   "execution_count": null,
   "metadata": {},
   "outputs": [
    {
     "ename": "",
     "evalue": "",
     "output_type": "error",
     "traceback": [
      "\u001b[1;31mnotebook controller is DISPOSED. \n",
      "\u001b[1;31mView Jupyter <a href='command:jupyter.viewOutput'>log</a> for further details."
     ]
    },
    {
     "ename": "",
     "evalue": "",
     "output_type": "error",
     "traceback": [
      "\u001b[1;31mnotebook controller is DISPOSED. \n",
      "\u001b[1;31mView Jupyter <a href='command:jupyter.viewOutput'>log</a> for further details."
     ]
    }
   ],
   "source": [
    "from sklearn.metrics import classification_report\n",
    "\n",
    "y_pred = model.predict(X_val)\n",
    "\n",
    "\n",
    "\n",
    "print(classification_report(y_val, binary_2d))"
   ]
  },
  {
   "cell_type": "code",
   "execution_count": null,
   "metadata": {},
   "outputs": [
    {
     "name": "stdout",
     "output_type": "stream",
     "text": [
      "(2775, 3)\n",
      "(2004, 3)\n",
      "unique = [[0 0 1]\n",
      " [0 1 0]\n",
      " [1 0 0]]\n",
      "925\n"
     ]
    },
    {
     "ename": "",
     "evalue": "",
     "output_type": "error",
     "traceback": [
      "\u001b[1;31mnotebook controller is DISPOSED. \n",
      "\u001b[1;31mView Jupyter <a href='command:jupyter.viewOutput'>log</a> for further details."
     ]
    },
    {
     "ename": "",
     "evalue": "",
     "output_type": "error",
     "traceback": [
      "\u001b[1;31mnotebook controller is DISPOSED. \n",
      "\u001b[1;31mView Jupyter <a href='command:jupyter.viewOutput'>log</a> for further details."
     ]
    }
   ],
   "source": [
    "print(y_resampled.shape)\n",
    "print(y.shape)\n",
    "\n",
    "# print(y_resampled)\n",
    "\n",
    "count=0\n",
    "unique_arr = np.unique(y_resampled, axis=0)\n",
    "print(f'unique = {unique_arr}')\n",
    "count = np.count_nonzero((y_resampled == [0, 1, 0]).all(axis=1))\n",
    "count2 = np.count_nonzero((y == [0, 1, 0]).all(axis=1))\n",
    "\n",
    "print(count2)\n",
    "# print(distinct_values)\n",
    "\n",
    "# print(y_resampled)\n",
    "# for val in y_resampled:\n",
    "#     # print(val)\n",
    "#     if (val == np.array([0,1,0])).all():\n",
    "#         count+=1\n",
    "# print(count)\n"
   ]
  }
 ],
 "metadata": {
  "kernelspec": {
   "display_name": "ML",
   "language": "python",
   "name": "python3"
  },
  "language_info": {
   "codemirror_mode": {
    "name": "ipython",
    "version": 3
   },
   "file_extension": ".py",
   "mimetype": "text/x-python",
   "name": "python",
   "nbconvert_exporter": "python",
   "pygments_lexer": "ipython3",
   "version": "3.8.15"
  },
  "orig_nbformat": 4
 },
 "nbformat": 4,
 "nbformat_minor": 2
}
