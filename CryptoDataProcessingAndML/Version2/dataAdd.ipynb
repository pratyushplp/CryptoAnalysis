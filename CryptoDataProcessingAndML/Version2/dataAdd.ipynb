{
 "cells": [
  {
   "cell_type": "code",
   "execution_count": 29,
   "metadata": {},
   "outputs": [
    {
     "name": "stdout",
     "output_type": "stream",
     "text": [
      "           Date     Open     High      Low    Close\n",
      "0    04/28/2023  4129.63  4170.06  4127.18  4169.48\n",
      "1    04/27/2023  4075.29  4138.24  4075.29  4135.35\n",
      "2    04/26/2023  4087.78  4089.67  4049.35  4055.99\n",
      "3    04/25/2023  4126.43  4126.43  4071.38  4071.63\n",
      "4    04/24/2023  4132.07  4142.41  4117.77  4137.04\n",
      "..          ...      ...      ...      ...      ...\n",
      "170  08/23/2017  2444.88  2448.91  2441.42  2444.04\n",
      "171  08/22/2017  2433.75  2454.77  2433.67  2452.51\n",
      "172  08/21/2017  2425.50  2430.58  2417.35  2428.37\n",
      "173  08/18/2017  2427.64  2440.27  2420.69  2425.55\n",
      "174  08/17/2017  2462.95  2465.02  2430.01  2430.01\n",
      "\n",
      "[1437 rows x 5 columns]\n"
     ]
    }
   ],
   "source": [
    "import pandas as pd\n",
    "import pandas_ta as ta\n",
    "input_file_path='./historical_data/INDEX_US_S&P US_SPX_'\n",
    "# result = pd.concat([df1, df2], axis=1)\n",
    "temp=[]\n",
    "cols= ['Open','High','Low','Close']\n",
    "for i in range(6):\n",
    "    df = pd.read_csv(input_file_path+f\"{i}.csv\")\n",
    "    for val in cols:\n",
    "        df[val] = [float(x.replace(',','')) for x in df[val]]\n",
    "    temp.append(df)\n",
    "result = pd.concat(temp,axis=0)\n",
    "print(result)\n",
    "result.to_csv(\"./historical_data/S&P500_all.csv\", index=False)\n",
    "\n"
   ]
  },
  {
   "cell_type": "code",
   "execution_count": 41,
   "metadata": {},
   "outputs": [],
   "source": [
    "# code to get relation\n",
    "df_eth = pd.read_csv('./historical_data/Binance_ETHUSDT_d.csv',header=1)\n",
    "df_SandP = pd.read_csv('./historical_data/S&P500_all.csv')\n",
    "# corr = df_eth['Close'], df_SandP['Close'], window=10)\n",
    "correlation = df_eth['Close'].rolling(14).corr(df_SandP['Close'])\n",
    "print(correlation[1436])\n"
   ]
  },
  {
   "cell_type": "code",
   "execution_count": 72,
   "metadata": {},
   "outputs": [
    {
     "name": "stdout",
     "output_type": "stream",
     "text": [
      "(2051, 10)\n",
      "(1437, 5)\n"
     ]
    }
   ],
   "source": [
    "print(df_eth.shape)\n",
    "print(df_SandP.shape)"
   ]
  },
  {
   "cell_type": "code",
   "execution_count": 2,
   "metadata": {},
   "outputs": [
    {
     "name": "stdout",
     "output_type": "stream",
     "text": [
      "/Users/pratyushpradhan/Developer/Personal/Projects/Crypto/CryptoDataProcessingAndML/Version2\n"
     ]
    }
   ],
   "source": [
    "import os\n",
    "\n",
    "cwd = os.getcwd()\n",
    "print(cwd)"
   ]
  },
  {
   "cell_type": "code",
   "execution_count": 75,
   "metadata": {},
   "outputs": [
    {
     "ename": "AttributeError",
     "evalue": "'DataFrame' object has no attribute 'append'",
     "output_type": "error",
     "traceback": [
      "\u001b[0;31m---------------------------------------------------------------------------\u001b[0m",
      "\u001b[0;31mAttributeError\u001b[0m                            Traceback (most recent call last)",
      "Cell \u001b[0;32mIn[75], line 13\u001b[0m\n\u001b[1;32m     11\u001b[0m \u001b[39mfor\u001b[39;00m date \u001b[39min\u001b[39;00m dates:\n\u001b[1;32m     12\u001b[0m     \u001b[39mif\u001b[39;00m date \u001b[39mnot\u001b[39;00m \u001b[39min\u001b[39;00m new_df[\u001b[39m'\u001b[39m\u001b[39mDate\u001b[39m\u001b[39m'\u001b[39m]:\n\u001b[0;32m---> 13\u001b[0m         new_df \u001b[39m=\u001b[39m new_df\u001b[39m.\u001b[39;49mappend({\u001b[39m'\u001b[39m\u001b[39mDate\u001b[39m\u001b[39m'\u001b[39m: date}, ignore_index\u001b[39m=\u001b[39m\u001b[39mTrue\u001b[39;00m)\n\u001b[1;32m     15\u001b[0m \u001b[39m# Return the new dataframe\u001b[39;00m\n\u001b[1;32m     16\u001b[0m \u001b[39mprint\u001b[39m(new_df)\n",
      "File \u001b[0;32m/opt/homebrew/Caskroom/miniforge/base/envs/ML/lib/python3.8/site-packages/pandas/core/generic.py:5989\u001b[0m, in \u001b[0;36mNDFrame.__getattr__\u001b[0;34m(self, name)\u001b[0m\n\u001b[1;32m   5982\u001b[0m \u001b[39mif\u001b[39;00m (\n\u001b[1;32m   5983\u001b[0m     name \u001b[39mnot\u001b[39;00m \u001b[39min\u001b[39;00m \u001b[39mself\u001b[39m\u001b[39m.\u001b[39m_internal_names_set\n\u001b[1;32m   5984\u001b[0m     \u001b[39mand\u001b[39;00m name \u001b[39mnot\u001b[39;00m \u001b[39min\u001b[39;00m \u001b[39mself\u001b[39m\u001b[39m.\u001b[39m_metadata\n\u001b[1;32m   5985\u001b[0m     \u001b[39mand\u001b[39;00m name \u001b[39mnot\u001b[39;00m \u001b[39min\u001b[39;00m \u001b[39mself\u001b[39m\u001b[39m.\u001b[39m_accessors\n\u001b[1;32m   5986\u001b[0m     \u001b[39mand\u001b[39;00m \u001b[39mself\u001b[39m\u001b[39m.\u001b[39m_info_axis\u001b[39m.\u001b[39m_can_hold_identifiers_and_holds_name(name)\n\u001b[1;32m   5987\u001b[0m ):\n\u001b[1;32m   5988\u001b[0m     \u001b[39mreturn\u001b[39;00m \u001b[39mself\u001b[39m[name]\n\u001b[0;32m-> 5989\u001b[0m \u001b[39mreturn\u001b[39;00m \u001b[39mobject\u001b[39;49m\u001b[39m.\u001b[39;49m\u001b[39m__getattribute__\u001b[39;49m(\u001b[39mself\u001b[39;49m, name)\n",
      "\u001b[0;31mAttributeError\u001b[0m: 'DataFrame' object has no attribute 'append'"
     ]
    }
   ],
   "source": [
    "import pandas as pd\n",
    "df_SandP = pd.read_csv('./historical_data/S&P500_all.csv')\n",
    "\n",
    "# Create a list of all the dates in the range of 2018-2019\n",
    "dates = pd.date_range('2017-8-17', '2023-05-26')\n",
    "\n",
    "# Create a new dataframe with the same columns as the original dataframe\n",
    "new_df = pd.DataFrame(columns=df_SandP.columns)\n",
    "\n",
    "# Iterate through the list of dates, and for each date, check if it is present in the original dataframe\n",
    "for date in dates:\n",
    "    if date not in new_df['Date']:\n",
    "        new_df = new_df.append({'Date': date}, ignore_index=True)\n",
    "\n",
    "# Return the new dataframe\n",
    "print(new_df)"
   ]
  },
  {
   "cell_type": "code",
   "execution_count": 77,
   "metadata": {},
   "outputs": [
    {
     "name": "stdout",
     "output_type": "stream",
     "text": [
      "             A            B\n",
      "0            1            4\n",
      "1  new_value_1  new_value_2\n",
      "2            3            6\n"
     ]
    }
   ],
   "source": [
    "# Create a DataFrame\n",
    "df = pd.DataFrame({'A': [1, 2, 3], 'B': [4, 5, 6]})\n",
    "\n",
    "# Append a row under the row with the index 2\n",
    "df.loc[1, :] = ['new_value_1', 'new_value_2']\n",
    "\n",
    "# Print the DataFrame\n",
    "print(df)"
   ]
  }
 ],
 "metadata": {
  "kernelspec": {
   "display_name": "ML",
   "language": "python",
   "name": "python3"
  },
  "language_info": {
   "codemirror_mode": {
    "name": "ipython",
    "version": 3
   },
   "file_extension": ".py",
   "mimetype": "text/x-python",
   "name": "python",
   "nbconvert_exporter": "python",
   "pygments_lexer": "ipython3",
   "version": "3.8.16"
  },
  "orig_nbformat": 4
 },
 "nbformat": 4,
 "nbformat_minor": 2
}
